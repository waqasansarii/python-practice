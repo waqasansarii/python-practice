{
 "cells": [
  {
   "cell_type": "markdown",
   "metadata": {},
   "source": [
    "# String"
   ]
  },
  {
   "cell_type": "code",
   "execution_count": null,
   "metadata": {},
   "outputs": [
    {
     "ename": "",
     "evalue": "",
     "output_type": "error",
     "traceback": [
      "\u001b[1;31mRunning cells with 'd:\\anaconda\\envs\\py11\\python.exe' requires the ipykernel package.\n",
      "\u001b[1;31mRun the following command to install 'ipykernel' into the Python environment. \n",
      "\u001b[1;31mCommand: 'conda install -p d:\\anaconda\\envs\\py11 ipykernel --update-deps --force-reinstall'"
     ]
    }
   ],
   "source": [
    "name:str = 'Muhammad waqas'\n",
    "age:int = 24\n",
    "\n",
    "concat = name + age\n",
    "print(concat)"
   ]
  },
  {
   "cell_type": "code",
   "execution_count": 1,
   "metadata": {},
   "outputs": [
    {
     "ename": "TypeError",
     "evalue": "object of type 'int' has no len()",
     "output_type": "error",
     "traceback": [
      "\u001b[1;31m---------------------------------------------------------------------------\u001b[0m",
      "\u001b[1;31mTypeError\u001b[0m                                 Traceback (most recent call last)",
      "Cell \u001b[1;32mIn[1], line 3\u001b[0m\n\u001b[0;32m      1\u001b[0m name:\u001b[38;5;28mstr\u001b[39m \u001b[38;5;241m=\u001b[39m \u001b[38;5;124m'\u001b[39m\u001b[38;5;124mMuhammad waqas\u001b[39m\u001b[38;5;124m'\u001b[39m\n\u001b[0;32m      2\u001b[0m age:\u001b[38;5;28mint\u001b[39m \u001b[38;5;241m=\u001b[39m \u001b[38;5;241m24\u001b[39m\n\u001b[1;32m----> 3\u001b[0m \u001b[38;5;28mlen\u001b[39m(age)\n\u001b[0;32m      5\u001b[0m concat \u001b[38;5;241m=\u001b[39m name \u001b[38;5;241m+\u001b[39m \u001b[38;5;28mstr\u001b[39m(age)\n\u001b[0;32m      6\u001b[0m \u001b[38;5;28mprint\u001b[39m(concat)\n",
      "\u001b[1;31mTypeError\u001b[0m: object of type 'int' has no len()"
     ]
    }
   ],
   "source": [
    "name:str = 'Muhammad waqas'\n",
    "age:int = 24\n",
    "len(age)\n",
    "\n",
    "concat = name + str(age)\n",
    "print(concat)"
   ]
  },
  {
   "cell_type": "markdown",
   "metadata": {},
   "source": [
    "# Multilines string\n"
   ]
  },
  {
   "cell_type": "code",
   "execution_count": 3,
   "metadata": {},
   "outputs": [
    {
     "name": "stdout",
     "output_type": "stream",
     "text": [
      " \n",
      "hello how are you?\n",
      "hello pakistan\n",
      " \n"
     ]
    }
   ],
   "source": [
    "message : str = ''' \n",
    "hello how are you?\n",
    "hello pakistan\n",
    " '''\n",
    "print(message)"
   ]
  },
  {
   "cell_type": "markdown",
   "metadata": {},
   "source": [
    "# f-string"
   ]
  },
  {
   "cell_type": "code",
   "execution_count": 5,
   "metadata": {},
   "outputs": [
    {
     "name": "stdout",
     "output_type": "stream",
     "text": [
      "\n",
      " PIAIC student info.\n",
      " Student Name : Waqas\n",
      " Father Name : Raees ahmed\n",
      " Age : 24\n",
      " \n"
     ]
    }
   ],
   "source": [
    "name:str = 'Waqas'\n",
    "fname:str = 'Raees ahmed'\n",
    "age:int = 24\n",
    "student_card = f'''\n",
    " PIAIC student info.\n",
    " Student Name : {name}\n",
    " Father Name : {fname}\n",
    " Age : {age}\n",
    " '''\n",
    "print(student_card)"
   ]
  },
  {
   "cell_type": "code",
   "execution_count": 6,
   "metadata": {},
   "outputs": [
    {
     "name": "stdout",
     "output_type": "stream",
     "text": [
      "\n",
      " PIAIC student info.\n",
      " Student Name : Waqas\n",
      " Father Name : Raees ahmed\n",
      " Age : 24\n",
      "\n",
      " total 19\n",
      " \n"
     ]
    }
   ],
   "source": [
    "name:str = 'Waqas'\n",
    "fname:str = 'Raees ahmed'\n",
    "age:int = 24\n",
    "student_card = f'''\n",
    " PIAIC student info.\n",
    " Student Name : {name}\n",
    " Father Name : {fname}\n",
    " Age : {age}\n",
    "\n",
    " total {2+5+6+6}\n",
    " '''\n",
    "print(student_card)"
   ]
  },
  {
   "cell_type": "markdown",
   "metadata": {},
   "source": [
    "# jinja style"
   ]
  },
  {
   "cell_type": "code",
   "execution_count": 8,
   "metadata": {},
   "outputs": [
    {
     "name": "stdout",
     "output_type": "stream",
     "text": [
      "\n",
      "student name {{name}}\n",
      "\n"
     ]
    }
   ],
   "source": [
    "name: str ='''\n",
    "student name {{name}}\n",
    "'''\n",
    "print(name)"
   ]
  },
  {
   "cell_type": "code",
   "execution_count": 11,
   "metadata": {},
   "outputs": [
    {
     "name": "stdout",
     "output_type": "stream",
     "text": [
      "Muhammad waqas\n",
      "muhammad waqas\n",
      "True\n"
     ]
    }
   ],
   "source": [
    "name : str = 'MuhammAd WAqAs'\n",
    "print(name.capitalize())\n",
    "print(name.casefold())\n",
    "print(name.endswith('s'))"
   ]
  },
  {
   "cell_type": "markdown",
   "metadata": {},
   "source": [
    "# f-string and format methods"
   ]
  },
  {
   "cell_type": "code",
   "execution_count": 15,
   "metadata": {},
   "outputs": [
    {
     "name": "stdout",
     "output_type": "stream",
     "text": [
      "\n",
      " PIAIC student info.\n",
      " Student Name : Waqas\n",
      " Father Name : Raees ahmed\n",
      " Age : 24\n",
      "\n",
      " \n"
     ]
    }
   ],
   "source": [
    "# format methond\n",
    "name:str = 'Waqas'\n",
    "fname:str = 'Raees ahmed'\n",
    "age:int = 24\n",
    "student_card = '''\n",
    " PIAIC student info.\n",
    " Student Name : {a}\n",
    " Father Name : {b}\n",
    " Age : {c}\n",
    "\n",
    " '''\n",
    "print(student_card.format(a=name , b=fname, c=age))"
   ]
  },
  {
   "cell_type": "code",
   "execution_count": 16,
   "metadata": {},
   "outputs": [
    {
     "name": "stdout",
     "output_type": "stream",
     "text": [
      "\n",
      " PIAIC student info.\n",
      " Student Name : Waqas\n",
      " Father Name : Raees ahmed\n",
      " Age : 24\n",
      "\n",
      " \n"
     ]
    }
   ],
   "source": [
    "# f-string\n",
    "name:str = 'Waqas'\n",
    "fname:str = 'Raees ahmed'\n",
    "age:int = 24\n",
    "student_card = f'''\n",
    " PIAIC student info.\n",
    " Student Name : {name}\n",
    " Father Name : {fname}\n",
    " Age : {age}\n",
    "\n",
    " '''\n",
    "print(student_card)"
   ]
  },
  {
   "cell_type": "code",
   "execution_count": 14,
   "metadata": {},
   "outputs": [
    {
     "name": "stdout",
     "output_type": "stream",
     "text": [
      "value of a = 5 and value of b = 3\n"
     ]
    }
   ],
   "source": [
    "a = 5\n",
    "b = 3\n",
    "message = 'value of a = {} and value of b = {}'\n",
    "print(message.format(a,b))"
   ]
  },
  {
   "cell_type": "code",
   "execution_count": 17,
   "metadata": {},
   "outputs": [
    {
     "name": "stdout",
     "output_type": "stream",
     "text": [
      "18\n"
     ]
    }
   ],
   "source": [
    "student_code : str = '''\n",
    "a:int = 5\n",
    "b: int = 13\n",
    "print(a+b)\n",
    "'''\n",
    "exec(student_code)"
   ]
  },
  {
   "cell_type": "markdown",
   "metadata": {},
   "source": [
    "# string methods and attributes"
   ]
  },
  {
   "cell_type": "code",
   "execution_count": 18,
   "metadata": {},
   "outputs": [
    {
     "name": "stdout",
     "output_type": "stream",
     "text": [
      "['capitalize', 'casefold', 'center', 'count', 'encode', 'endswith', 'expandtabs', 'find', 'format', 'format_map', 'index', 'isalnum', 'isalpha', 'isascii', 'isdecimal', 'isdigit', 'isidentifier', 'islower', 'isnumeric', 'isprintable', 'isspace', 'istitle', 'isupper', 'join', 'ljust', 'lower', 'lstrip', 'maketrans', 'partition', 'removeprefix', 'removesuffix', 'replace', 'rfind', 'rindex', 'rjust', 'rpartition', 'rsplit', 'rstrip', 'split', 'splitlines', 'startswith', 'strip', 'swapcase', 'title', 'translate', 'upper', 'zfill']\n"
     ]
    }
   ],
   "source": [
    "a : list[str] = [i for i in dir(str) if \"__\" not  in i]\n",
    "print(a)"
   ]
  },
  {
   "cell_type": "code",
   "execution_count": 20,
   "metadata": {},
   "outputs": [
    {
     "data": {
      "text/plain": [
       "'       Muhammad waqas     '"
      ]
     },
     "metadata": {},
     "output_type": "display_data"
    },
    {
     "data": {
      "text/plain": [
       "'Muhammad waqas     '"
      ]
     },
     "metadata": {},
     "output_type": "display_data"
    }
   ],
   "source": [
    "name : str = '       Muhammad waqas     '\n",
    "display(name)\n",
    "display(name.lstrip())"
   ]
  },
  {
   "cell_type": "code",
   "execution_count": 21,
   "metadata": {},
   "outputs": [
    {
     "data": {
      "text/plain": [
       "'       Muhammad waqas     '"
      ]
     },
     "metadata": {},
     "output_type": "display_data"
    },
    {
     "data": {
      "text/plain": [
       "'       Muhammad waqas'"
      ]
     },
     "metadata": {},
     "output_type": "display_data"
    }
   ],
   "source": [
    "name : str = '       Muhammad waqas     '\n",
    "display(name)\n",
    "display(name.rstrip())"
   ]
  },
  {
   "cell_type": "code",
   "execution_count": 22,
   "metadata": {},
   "outputs": [
    {
     "data": {
      "text/plain": [
       "'       Muhammad waqas     '"
      ]
     },
     "metadata": {},
     "output_type": "display_data"
    },
    {
     "data": {
      "text/plain": [
       "'Muhammad waqas'"
      ]
     },
     "metadata": {},
     "output_type": "display_data"
    }
   ],
   "source": [
    "name : str = '       Muhammad    waqas     '\n",
    "display(name)\n",
    "display(name.strip())"
   ]
  },
  {
   "cell_type": "code",
   "execution_count": 28,
   "metadata": {},
   "outputs": [
    {
     "data": {
      "text/plain": [
       "'       Muhammad    waqas     '"
      ]
     },
     "metadata": {},
     "output_type": "display_data"
    },
    {
     "data": {
      "text/plain": [
       "'Muhammad waqas'"
      ]
     },
     "metadata": {},
     "output_type": "display_data"
    }
   ],
   "source": [
    "import re \n",
    "\n",
    "name : str = '       Muhammad    waqas     '\n",
    "display(name)\n",
    "# re.sub(type string and taking argument that how many spaces you allowed , type string and taking replacement value , variable name )                      \n",
    "remove_mid_space = re.sub(' {2,100}',' ',name).strip()\n",
    "display(remove_mid_space)"
   ]
  },
  {
   "cell_type": "code",
   "execution_count": 30,
   "metadata": {},
   "outputs": [
    {
     "data": {
      "text/plain": [
       "'muhammad waqas'"
      ]
     },
     "metadata": {},
     "output_type": "display_data"
    },
    {
     "data": {
      "text/plain": [
       "'Muhammad Waqas'"
      ]
     },
     "metadata": {},
     "output_type": "display_data"
    }
   ],
   "source": [
    "name : str = 'muhammad waqas'\n",
    "display(name)\n",
    "display(name.title())"
   ]
  },
  {
   "cell_type": "code",
   "execution_count": 32,
   "metadata": {},
   "outputs": [
    {
     "data": {
      "text/plain": [
       "'Muhammad Waqas'"
      ]
     },
     "metadata": {},
     "output_type": "display_data"
    }
   ],
   "source": [
    "fname:str = 'Muhammad'\n",
    "lname:str = 'waqas'\n",
    "fstring:str = f'{fname} {lname}'\n",
    "display(fstring.title())"
   ]
  },
  {
   "cell_type": "code",
   "execution_count": 40,
   "metadata": {},
   "outputs": [
    {
     "name": "stdout",
     "output_type": "stream",
     "text": [
      "Muhammad\twaqas\n",
      "Muhammad\n",
      "waqas\n",
      "Muhammad waqas\n"
     ]
    }
   ],
   "source": [
    "name:str = 'Muhammad\\twaqas'\n",
    "name2:str = 'Muhammad\\nwaqas'\n",
    "name3:str = 'Muhammad:\\b waqas'\n",
    "\n",
    "print(name)\n",
    "print(name2)\n",
    "print(name3)"
   ]
  },
  {
   "cell_type": "code",
   "execution_count": 44,
   "metadata": {},
   "outputs": [
    {
     "data": {
      "text/plain": [
       "'://google.com'"
      ]
     },
     "metadata": {},
     "output_type": "display_data"
    },
    {
     "data": {
      "text/plain": [
       "'https://google.co'"
      ]
     },
     "metadata": {},
     "output_type": "display_data"
    }
   ],
   "source": [
    "http_url:str = 'https://google.com'\n",
    "remove_prefix = http_url.removeprefix('https')\n",
    "display(remove_prefix)\n",
    "\n",
    "remove_suffix = http_url.removesuffix('m')\n",
    "display(remove_suffix)"
   ]
  }
 ],
 "metadata": {
  "kernelspec": {
   "display_name": "py11",
   "language": "python",
   "name": "python3"
  },
  "language_info": {
   "codemirror_mode": {
    "name": "ipython",
    "version": 3
   },
   "file_extension": ".py",
   "mimetype": "text/x-python",
   "name": "python",
   "nbconvert_exporter": "python",
   "pygments_lexer": "ipython3",
   "version": "3.11.8"
  }
 },
 "nbformat": 4,
 "nbformat_minor": 2
}
