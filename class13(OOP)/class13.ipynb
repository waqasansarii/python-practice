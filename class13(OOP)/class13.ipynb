{
 "cells": [
  {
   "cell_type": "markdown",
   "metadata": {},
   "source": [
    "# OOP\n",
    "```Explains the basic concepts of Object-Oriented Programming (OOP) in Python, including classes, methods, attributes, class variables, and inheritance. It also includes examples of an Employee class and its subclasses Designer and Developer, demonstrating the use of super().__init__() to initialize the parent class.```"
   ]
  },
  {
   "cell_type": "code",
   "execution_count": 11,
   "metadata": {},
   "outputs": [],
   "source": [
    "class Teacher():\n",
    "    def  __init__(self, name : str, age: int)-> None: # constructor\n",
    "        self.name = name # attributes\n",
    "        self.age = age # attributes\n",
    "    \n",
    "    def teaching(self, subject:str)-> None: # method\n",
    "        print(f'{self.name} is teaching {subject}...')  \n",
    "      "
   ]
  },
  {
   "cell_type": "code",
   "execution_count": 17,
   "metadata": {},
   "outputs": [
    {
     "name": "stdout",
     "output_type": "stream",
     "text": [
      "Muhammad waqas is teaching Maths...\n",
      "Muhammad waqas\n"
     ]
    },
    {
     "data": {
      "text/plain": [
       "['age', 'name', 'teaching']"
      ]
     },
     "execution_count": 17,
     "metadata": {},
     "output_type": "execute_result"
    }
   ],
   "source": [
    "obj : Teacher = Teacher('Muhammad waqas', 24)\n",
    "teach  = obj.teaching('Maths')\n",
    "print(obj.name)\n",
    "# obj\n",
    "teach\n",
    "\n",
    "#checking the object methods and attributes\n",
    "[meth for meth in dir(obj) if '__' not in meth ]\n",
    "# dir(obj)"
   ]
  },
  {
   "cell_type": "code",
   "execution_count": 40,
   "metadata": {},
   "outputs": [],
   "source": [
    "class Teacher():\n",
    "    counter : int = 0 # class variable\n",
    "    num : str = '4342434' # class variable\n",
    "    def  __init__(self, name : str, age: int)-> None: # constructor\n",
    "        self.name = name # attributes\n",
    "        self.age = age # attributes\n",
    "        Teacher.counter += 1\n",
    "    \n",
    "    def teaching(self, subject:str)-> None: # method\n",
    "        print(f'{self.name} is teaching {subject}...')  \n",
    "      "
   ]
  },
  {
   "cell_type": "code",
   "execution_count": 59,
   "metadata": {},
   "outputs": [
    {
     "name": "stdout",
     "output_type": "stream",
     "text": [
      "waqas is teaching math...\n"
     ]
    },
    {
     "data": {
      "text/plain": [
       "19"
      ]
     },
     "execution_count": 59,
     "metadata": {},
     "output_type": "execute_result"
    }
   ],
   "source": [
    "teacher_obj : Teacher = Teacher('waqas',24)\n",
    "teacher_obj.teaching('math')\n",
    "Teacher.counter"
   ]
  },
  {
   "cell_type": "markdown",
   "metadata": {},
   "source": [
    "## 1. Encapsulation\n",
    "* Encapsulation: The bundling of data with the methods that operate on that data. It restricts direct access to some of an object's components and can prevent the accidental modification of data.\n",
    "\n",
    "## 2. Abstraction\n",
    "* Abstraction: The concept of hiding the complex reality while exposing only the necessary parts. It helps to reduce programming complexity and effort.\n",
    "\n",
    "## 3. Inheritance\n",
    "* Inheritance: A mechanism wherein a new class inherits properties and behavior (methods) from another class. This helps to create a new class based on an existing class.\n",
    "\n",
    "## 4. Polymorphism\n",
    "* Polymorphism: The ability of different classes to respond to the same message (method call) in different ways. This allows for code to work with objects of various classes as if they were objects of a common superclass."
   ]
  },
  {
   "cell_type": "markdown",
   "metadata": {},
   "source": [
    "# Inheritance"
   ]
  },
  {
   "cell_type": "code",
   "execution_count": 70,
   "metadata": {},
   "outputs": [
    {
     "name": "stdout",
     "output_type": "stream",
     "text": [
      "brown\n",
      "black\n",
      "white\n",
      "Parents color white black\n",
      "Child color   white black\n",
      "Learning Gen AI\n"
     ]
    }
   ],
   "source": [
    "class Parent():\n",
    "    def __init__(self)-> None:\n",
    "        self.eye_color = 'brown'\n",
    "        self.color = 'white'\n",
    "        self.hair_color = 'black'\n",
    "    def speak(self , word):\n",
    "        print(f'{word} {self.color} {self.hair_color}') \n",
    "        \n",
    "class Child(Parent):\n",
    "    def teaching(self , subject : str)->None:\n",
    "        print(f'Learning {subject}')\n",
    "        # pass\n",
    "    \n",
    "parent_ob : Parent = Parent()\n",
    "print(parent_ob.eye_color)\n",
    "print(parent_ob.hair_color)\n",
    "print(parent_ob.color)\n",
    "parent_ob.speak('Parents color')\n",
    "\n",
    "child_obj : Child = Child()\n",
    "child_obj.eye_color\n",
    "child_obj.color\n",
    "child_obj.speak('Child color  ')  \n",
    "child_obj.teaching('Gen AI')             "
   ]
  },
  {
   "cell_type": "code",
   "execution_count": 9,
   "metadata": {},
   "outputs": [
    {
     "name": "stdout",
     "output_type": "stream",
     "text": [
      "Ali\n",
      "Waqas\n",
      "name\n"
     ]
    }
   ],
   "source": [
    "class Employee():\n",
    "    def __init__(self,name) -> None:\n",
    "        self.name: str = name\n",
    "        self.education : str =''\n",
    "        self.age : int =0\n",
    "        \n",
    "class Designer(Employee):\n",
    "    def __init__(self,department:str,name:str) -> None:\n",
    "        super().__init__(name) # super().__init__() is used to pass to values from child to parent class constructor\n",
    "        self.department : str = department\n",
    "        \n",
    "class Developer(Employee):\n",
    "    def __init__(self,department:str,name:str) -> None:\n",
    "        super().__init__(name)\n",
    "        self.department : str = department\n",
    "        \n",
    "designer1 = Designer('Designer','Ali')  \n",
    "dev1 = Developer('Gen Ai dev','Waqas') \n",
    "\n",
    "print(designer1.name)     \n",
    "print(dev1.name) \n",
    "                "
   ]
  },
  {
   "cell_type": "markdown",
   "metadata": {},
   "source": [
    "## Multiple Inheritence\n"
   ]
  },
  {
   "cell_type": "code",
   "execution_count": 15,
   "metadata": {},
   "outputs": [
    {
     "name": "stdout",
     "output_type": "stream",
     "text": [
      "6 white Afshan\n",
      "Mother speaking\n"
     ]
    }
   ],
   "source": [
    "class Mother():\n",
    "    def __init__(self,name:str) -> None:\n",
    "        self.mother_name: str = name\n",
    "        self.color : str = 'white'\n",
    "    \n",
    "    def speaking(self):\n",
    "        return 'Mother speaking'\n",
    "        \n",
    "class Father():\n",
    "    def __init__(self,name) -> None:\n",
    "        self.height : int = 6\n",
    "        self.father_name:str = name\n",
    "    def speaking(self):\n",
    "        return 'Father speaking'\n",
    "        \n",
    "class Child(Mother,Father):\n",
    "    def __init__(self,name:str,mother_name:str,father_name:str) -> None:\n",
    "        Mother.__init__(self,mother_name)\n",
    "        Father.__init__(self,father_name)\n",
    "        self.child_name: str = name\n",
    "        \n",
    "child : Child = Child('arman','Afshan','Raees Ahmed')\n",
    "\n",
    "print(child.height,child.color,child.mother_name)\n",
    "print(child.speaking())"
   ]
  },
  {
   "cell_type": "code",
   "execution_count": 16,
   "metadata": {},
   "outputs": [
    {
     "name": "stdout",
     "output_type": "stream",
     "text": [
      "6 white Afshan\n",
      "Father speaking\n"
     ]
    }
   ],
   "source": [
    "class Mother():\n",
    "    def __init__(self,name:str) -> None:\n",
    "        self.mother_name: str = name\n",
    "        self.color : str = 'white'\n",
    "    \n",
    "    def speaking(self):\n",
    "        return 'Mother speaking'\n",
    "        \n",
    "class Father():\n",
    "    def __init__(self,name) -> None:\n",
    "        self.height : int = 6\n",
    "        self.father_name:str = name\n",
    "    def speaking(self):\n",
    "        return 'Father speaking'\n",
    "        \n",
    "class Child(Father,Mother):\n",
    "    def __init__(self, name:str, mother_name:str, father_name:str) -> None:\n",
    "        Mother.__init__(self, mother_name)\n",
    "        Father.__init__(self, father_name)\n",
    "        self.child_name: str = name\n",
    "        \n",
    "child : Child = Child('arman','Afshan','Raees Ahmed')\n",
    "\n",
    "print(child.height,child.color,child.mother_name)\n",
    "print(child.speaking())"
   ]
  },
  {
   "cell_type": "markdown",
   "metadata": {},
   "source": [
    "## Function overloading with @overload Decorator"
   ]
  },
  {
   "cell_type": "code",
   "execution_count": 27,
   "metadata": {},
   "outputs": [
    {
     "name": "stdout",
     "output_type": "stream",
     "text": [
      "7\n",
      "8.1\n",
      "HelloWorld\n"
     ]
    }
   ],
   "source": [
    "from typing import overload,Union\n",
    "\n",
    "@overload\n",
    "def add(a: int, b: int) -> int:\n",
    "    ...\n",
    "@overload\n",
    "def add(a:float,b:float)-> float:\n",
    "    ...   \n",
    "    \n",
    "@overload\n",
    "def add(a:str , b:str )-> str:\n",
    "    ...    \n",
    "    \n",
    "\n",
    "def add(a : Union[int,float,str] , b : Union[int,float,str]) -> Union[int , float , str]:\n",
    "    if isinstance(a,int) and isinstance(b,int):\n",
    "        return a + b\n",
    "    elif isinstance(a,float) and isinstance(b,float):\n",
    "        return a + b\n",
    "    elif isinstance(a,str) and isinstance(b,str):\n",
    "        return a + b\n",
    "    else:\n",
    "        raise TypeError('Invalid Type')\n",
    "    \n",
    "result1 = add(2,5)\n",
    "result2 = add(2.5,5.6)\n",
    "result3 = add('Hello','World')\n",
    "print(result1)\n",
    "print(result2)\n",
    "print(result3)"
   ]
  },
  {
   "cell_type": "markdown",
   "metadata": {},
   "source": [
    "## Method overloading "
   ]
  },
  {
   "cell_type": "code",
   "execution_count": 29,
   "metadata": {},
   "outputs": [
    {
     "name": "stdout",
     "output_type": "stream",
     "text": [
      "3\n",
      "4.0\n",
      "Hello, world!\n"
     ]
    }
   ],
   "source": [
    "from typing import overload, Union\n",
    "class Calculation:\n",
    "    \n",
    "    @overload\n",
    "    def add(self,x:int,y:int)-> int:\n",
    "        ...\n",
    "           \n",
    "    @overload\n",
    "    def add(self,x:float,y:float)-> float:\n",
    "        ...\n",
    "        \n",
    "    @overload\n",
    "    def add(self,x:str,y:str)-> str:\n",
    "        ...\n",
    "        \n",
    "    def add(self,x : Union[int,float,str] , y : Union[int,float,str]) -> Union[int , float , str]:\n",
    "        if isinstance(x,int) and isinstance(y,int):\n",
    "           return x + y\n",
    "        elif isinstance(x,float) and isinstance(y,float):\n",
    "            return x + y\n",
    "        elif isinstance(x,str) and isinstance(y,str):\n",
    "            return x + y\n",
    "        else:\n",
    "           raise TypeError('Invalid Type')  \n",
    "         \n",
    "\n",
    "calc : Calculation =  Calculation()\n",
    "result1 = calc.add(1, 2)  # Should return 3\n",
    "result2 = calc.add(1.5, 2.5)  # Should return 4.0\n",
    "result3 = calc.add(\"Hello, \", \"world!\") \n",
    "\n",
    "print(result1)\n",
    "print(result2)\n",
    "print(result3)           \n",
    "    "
   ]
  },
  {
   "cell_type": "markdown",
   "metadata": {},
   "source": [
    "# Static Methonds\n",
    "* when we use static methods then we don't need to create a new instance of object so we call method directly with the class instance.\n"
   ]
  },
  {
   "cell_type": "code",
   "execution_count": 31,
   "metadata": {},
   "outputs": [
    {
     "name": "stdout",
     "output_type": "stream",
     "text": [
      "13\n",
      "40\n"
     ]
    }
   ],
   "source": [
    "\n",
    "class MathOperators :\n",
    "    @staticmethod\n",
    "    def add(a:int,b:int)-> int:\n",
    "        return a + b\n",
    "    \n",
    "    @staticmethod\n",
    "    def sub(a:int,b:int)-> int:\n",
    "        return a - b\n",
    "    \n",
    "    @staticmethod\n",
    "    def mul(a:int,b:int)-> int:\n",
    "        return a * b\n",
    "    \n",
    "result1 = MathOperators.add(5,8)\n",
    "result2 = MathOperators.mul(5,8)\n",
    "print(result1)    \n",
    "print(result2)    "
   ]
  },
  {
   "cell_type": "markdown",
   "metadata": {},
   "source": [
    "# Overriding \n",
    "* Overriding is when a child class creates a new implementation of an inherited method. When a child class method is created with the same name and signature as one in the parent, the child's method takes precedence. A method's signature is its name and its list of parameters."
   ]
  },
  {
   "cell_type": "code",
   "execution_count": 34,
   "metadata": {},
   "outputs": [
    {
     "name": "stdout",
     "output_type": "stream",
     "text": [
      "Animal is eating grass\n",
      "Bird is eating bread\n"
     ]
    }
   ],
   "source": [
    "class Animal:\n",
    "    def eating(self, food:str)-> None:\n",
    "        print(f'Animal is eating {food}')\n",
    "        \n",
    "class Bird(Animal):\n",
    "    def eating(self, food:str)-> None:\n",
    "        print(f'Bird is eating {food}')\n",
    "        \n",
    "animal = Animal()\n",
    "animal.eating('grass') \n",
    "\n",
    "bird = Bird()\n",
    "bird.eating('bread')               "
   ]
  },
  {
   "cell_type": "markdown",
   "metadata": {},
   "source": [
    "# Polymorphism\n",
    "*  run time it will decide which object method it will be run"
   ]
  },
  {
   "cell_type": "code",
   "execution_count": null,
   "metadata": {},
   "outputs": [],
   "source": []
  },
  {
   "cell_type": "markdown",
   "metadata": {},
   "source": [
    "# Everything is object in python"
   ]
  },
  {
   "cell_type": "code",
   "execution_count": 35,
   "metadata": {},
   "outputs": [
    {
     "data": {
      "text/plain": [
       "['__add__',\n",
       " '__class__',\n",
       " '__contains__',\n",
       " '__delattr__',\n",
       " '__dir__',\n",
       " '__doc__',\n",
       " '__eq__',\n",
       " '__format__',\n",
       " '__ge__',\n",
       " '__getattribute__',\n",
       " '__getitem__',\n",
       " '__getnewargs__',\n",
       " '__getstate__',\n",
       " '__gt__',\n",
       " '__hash__',\n",
       " '__init__',\n",
       " '__init_subclass__',\n",
       " '__iter__',\n",
       " '__le__',\n",
       " '__len__',\n",
       " '__lt__',\n",
       " '__mod__',\n",
       " '__mul__',\n",
       " '__ne__',\n",
       " '__new__',\n",
       " '__reduce__',\n",
       " '__reduce_ex__',\n",
       " '__repr__',\n",
       " '__rmod__',\n",
       " '__rmul__',\n",
       " '__setattr__',\n",
       " '__sizeof__',\n",
       " '__str__',\n",
       " '__subclasshook__',\n",
       " 'capitalize',\n",
       " 'casefold',\n",
       " 'center',\n",
       " 'count',\n",
       " 'encode',\n",
       " 'endswith',\n",
       " 'expandtabs',\n",
       " 'find',\n",
       " 'format',\n",
       " 'format_map',\n",
       " 'index',\n",
       " 'isalnum',\n",
       " 'isalpha',\n",
       " 'isascii',\n",
       " 'isdecimal',\n",
       " 'isdigit',\n",
       " 'isidentifier',\n",
       " 'islower',\n",
       " 'isnumeric',\n",
       " 'isprintable',\n",
       " 'isspace',\n",
       " 'istitle',\n",
       " 'isupper',\n",
       " 'join',\n",
       " 'ljust',\n",
       " 'lower',\n",
       " 'lstrip',\n",
       " 'maketrans',\n",
       " 'partition',\n",
       " 'removeprefix',\n",
       " 'removesuffix',\n",
       " 'replace',\n",
       " 'rfind',\n",
       " 'rindex',\n",
       " 'rjust',\n",
       " 'rpartition',\n",
       " 'rsplit',\n",
       " 'rstrip',\n",
       " 'split',\n",
       " 'splitlines',\n",
       " 'startswith',\n",
       " 'strip',\n",
       " 'swapcase',\n",
       " 'title',\n",
       " 'translate',\n",
       " 'upper',\n",
       " 'zfill']"
      ]
     },
     "execution_count": 35,
     "metadata": {},
     "output_type": "execute_result"
    }
   ],
   "source": [
    "abc : str = 'string'\n",
    "dir(abc)"
   ]
  },
  {
   "cell_type": "code",
   "execution_count": 36,
   "metadata": {},
   "outputs": [
    {
     "data": {
      "text/plain": [
       "['__class__',\n",
       " '__delattr__',\n",
       " '__dict__',\n",
       " '__dir__',\n",
       " '__doc__',\n",
       " '__eq__',\n",
       " '__format__',\n",
       " '__ge__',\n",
       " '__getattribute__',\n",
       " '__getstate__',\n",
       " '__gt__',\n",
       " '__hash__',\n",
       " '__init__',\n",
       " '__init_subclass__',\n",
       " '__le__',\n",
       " '__lt__',\n",
       " '__module__',\n",
       " '__ne__',\n",
       " '__new__',\n",
       " '__reduce__',\n",
       " '__reduce_ex__',\n",
       " '__repr__',\n",
       " '__setattr__',\n",
       " '__sizeof__',\n",
       " '__str__',\n",
       " '__subclasshook__',\n",
       " '__weakref__',\n",
       " 'speaking']"
      ]
     },
     "execution_count": 36,
     "metadata": {},
     "output_type": "execute_result"
    }
   ],
   "source": [
    "class Anime():\n",
    "    def speaking(self):\n",
    "        print('Anime is speaking')\n",
    "        \n",
    "anim : Anime = Anime()\n",
    "\n",
    "dir(anim)        "
   ]
  },
  {
   "cell_type": "code",
   "execution_count": 37,
   "metadata": {},
   "outputs": [
    {
     "data": {
      "text/plain": [
       "['__class__',\n",
       " '__delattr__',\n",
       " '__dict__',\n",
       " '__dir__',\n",
       " '__doc__',\n",
       " '__eq__',\n",
       " '__format__',\n",
       " '__ge__',\n",
       " '__getattribute__',\n",
       " '__getstate__',\n",
       " '__gt__',\n",
       " '__hash__',\n",
       " '__init__',\n",
       " '__init_subclass__',\n",
       " '__le__',\n",
       " '__lt__',\n",
       " '__module__',\n",
       " '__ne__',\n",
       " '__new__',\n",
       " '__reduce__',\n",
       " '__reduce_ex__',\n",
       " '__repr__',\n",
       " '__setattr__',\n",
       " '__sizeof__',\n",
       " '__str__',\n",
       " '__subclasshook__',\n",
       " '__weakref__',\n",
       " 'speaking']"
      ]
     },
     "execution_count": 37,
     "metadata": {},
     "output_type": "execute_result"
    }
   ],
   "source": [
    "class Anime1(object):\n",
    "    def speaking(self):\n",
    "        print('Anime is speaking')\n",
    "        \n",
    "anim1 : Anime1 = Anime1()\n",
    "\n",
    "dir(anim1) "
   ]
  },
  {
   "cell_type": "markdown",
   "metadata": {},
   "source": [
    "# Callable"
   ]
  },
  {
   "cell_type": "code",
   "execution_count": 38,
   "metadata": {},
   "outputs": [
    {
     "name": "stdout",
     "output_type": "stream",
     "text": [
      "i am eating biryani\n"
     ]
    }
   ],
   "source": [
    "\n",
    "\n",
    "class Food:\n",
    "    def __call__(self, food) -> None:\n",
    "        print(f'i am eating {food}')\n",
    "        \n",
    "food : Food = Food()\n",
    "food('biryani')        "
   ]
  },
  {
   "cell_type": "code",
   "execution_count": 39,
   "metadata": {},
   "outputs": [
    {
     "name": "stdout",
     "output_type": "stream",
     "text": [
      "I am learning Gen AI\n"
     ]
    }
   ],
   "source": [
    "\n",
    "class Nested:\n",
    "    def speaking(self, course):\n",
    "        print(f'I am learning {course}')\n",
    "        \n",
    "    def __call__(self,course) -> None:\n",
    "        self.speaking(course)\n",
    "        \n",
    "nested : Nested = Nested()\n",
    "nested('Gen AI')        "
   ]
  },
  {
   "cell_type": "code",
   "execution_count": 43,
   "metadata": {},
   "outputs": [
    {
     "data": {
      "text/plain": [
       "25"
      ]
     },
     "execution_count": 43,
     "metadata": {},
     "output_type": "execute_result"
    }
   ],
   "source": [
    "\n",
    "class Power:\n",
    "    def __init__(self,exponent=2) -> None:\n",
    "        self.exponent = exponent\n",
    "        \n",
    "    def __call__(self, base) -> int:\n",
    "        return base ** self.exponent    \n",
    "\n",
    "power : Power = Power()\n",
    "power(5)    \n",
    "    \n",
    "        "
   ]
  },
  {
   "cell_type": "code",
   "execution_count": 73,
   "metadata": {},
   "outputs": [
    {
     "name": "stdout",
     "output_type": "stream",
     "text": [
      "{0: 1, 1: 1, 2: 2, 3: 6, 4: 24, 5: 120}\n",
      "120\n"
     ]
    }
   ],
   "source": [
    "from typing import Any\n",
    "\n",
    "class Factorial:\n",
    "    def __init__(self):\n",
    "        self.cache = {0: 1, 1: 1}\n",
    "\n",
    "    def __call__(self, number):\n",
    "        # print(self(number - 1))\n",
    "        if number not in self.cache:\n",
    "            self.cache[number] = number * self(number - 1)\n",
    "        return self.cache[number]\n",
    "                # return self.cache[num] = 4\n",
    "                \n",
    "    def check(self,numb)->None:\n",
    "       # self(numb - 1)\n",
    "        # or\n",
    "       # self.cache[numb - 1]\n",
    "       # both are same\n",
    "        print(self.cache[numb - 1] * numb)           \n",
    "               \n",
    "fact = Factorial()\n",
    "fact(5)\n",
    "\n",
    "print(fact.cache)  \n",
    "\n",
    "fact.check(5)             "
   ]
  }
 ],
 "metadata": {
  "kernelspec": {
   "display_name": "Python 3",
   "language": "python",
   "name": "python3"
  },
  "language_info": {
   "codemirror_mode": {
    "name": "ipython",
    "version": 3
   },
   "file_extension": ".py",
   "mimetype": "text/x-python",
   "name": "python",
   "nbconvert_exporter": "python",
   "pygments_lexer": "ipython3",
   "version": "3.11.8"
  }
 },
 "nbformat": 4,
 "nbformat_minor": 2
}
