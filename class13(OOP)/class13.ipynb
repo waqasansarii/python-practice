{
 "cells": [
  {
   "cell_type": "markdown",
   "metadata": {},
   "source": [
    "# OOP\n",
    "```Explains the basic concepts of Object-Oriented Programming (OOP) in Python, including classes, methods, attributes, class variables, and inheritance. It also includes examples of an Employee class and its subclasses Designer and Developer, demonstrating the use of super().__init__() to initialize the parent class.```"
   ]
  },
  {
   "cell_type": "code",
   "execution_count": 11,
   "metadata": {},
   "outputs": [],
   "source": [
    "class Teacher():\n",
    "    def  __init__(self, name : str, age: int)-> None: # constructor\n",
    "        self.name = name # attributes\n",
    "        self.age = age # attributes\n",
    "    \n",
    "    def teaching(self, subject:str)-> None: # method\n",
    "        print(f'{self.name} is teaching {subject}...')  \n",
    "      "
   ]
  },
  {
   "cell_type": "code",
   "execution_count": 17,
   "metadata": {},
   "outputs": [
    {
     "name": "stdout",
     "output_type": "stream",
     "text": [
      "Muhammad waqas is teaching Maths...\n",
      "Muhammad waqas\n"
     ]
    },
    {
     "data": {
      "text/plain": [
       "['age', 'name', 'teaching']"
      ]
     },
     "execution_count": 17,
     "metadata": {},
     "output_type": "execute_result"
    }
   ],
   "source": [
    "obj : Teacher = Teacher('Muhammad waqas', 24)\n",
    "teach  = obj.teaching('Maths')\n",
    "print(obj.name)\n",
    "# obj\n",
    "teach\n",
    "\n",
    "#checking the object methods and attributes\n",
    "[meth for meth in dir(obj) if '__' not in meth ]\n",
    "# dir(obj)"
   ]
  },
  {
   "cell_type": "code",
   "execution_count": 40,
   "metadata": {},
   "outputs": [],
   "source": [
    "class Teacher():\n",
    "    counter : int = 0 # class variable\n",
    "    num : str = '4342434' # class variable\n",
    "    def  __init__(self, name : str, age: int)-> None: # constructor\n",
    "        self.name = name # attributes\n",
    "        self.age = age # attributes\n",
    "        Teacher.counter += 1\n",
    "    \n",
    "    def teaching(self, subject:str)-> None: # method\n",
    "        print(f'{self.name} is teaching {subject}...')  \n",
    "      "
   ]
  },
  {
   "cell_type": "code",
   "execution_count": 59,
   "metadata": {},
   "outputs": [
    {
     "name": "stdout",
     "output_type": "stream",
     "text": [
      "waqas is teaching math...\n"
     ]
    },
    {
     "data": {
      "text/plain": [
       "19"
      ]
     },
     "execution_count": 59,
     "metadata": {},
     "output_type": "execute_result"
    }
   ],
   "source": [
    "teacher_obj : Teacher = Teacher('waqas',24)\n",
    "teacher_obj.teaching('math')\n",
    "Teacher.counter"
   ]
  },
  {
   "cell_type": "markdown",
   "metadata": {},
   "source": [
    "# Inheritance"
   ]
  },
  {
   "cell_type": "code",
   "execution_count": 70,
   "metadata": {},
   "outputs": [
    {
     "name": "stdout",
     "output_type": "stream",
     "text": [
      "brown\n",
      "black\n",
      "white\n",
      "Parents color white black\n",
      "Child color   white black\n",
      "Learning Gen AI\n"
     ]
    }
   ],
   "source": [
    "class Parent():\n",
    "    def __init__(self)-> None:\n",
    "        self.eye_color = 'brown'\n",
    "        self.color = 'white'\n",
    "        self.hair_color = 'black'\n",
    "    def speak(self , word):\n",
    "        print(f'{word} {self.color} {self.hair_color}') \n",
    "        \n",
    "class Child(Parent):\n",
    "    def teaching(self , subject : str)->None:\n",
    "        print(f'Learning {subject}')\n",
    "        # pass\n",
    "    \n",
    "parent_ob : Parent = Parent()\n",
    "print(parent_ob.eye_color)\n",
    "print(parent_ob.hair_color)\n",
    "print(parent_ob.color)\n",
    "parent_ob.speak('Parents color')\n",
    "\n",
    "child_obj : Child = Child()\n",
    "child_obj.eye_color\n",
    "child_obj.color\n",
    "child_obj.speak('Child color  ')  \n",
    "child_obj.teaching('Gen AI')             "
   ]
  }
 ],
 "metadata": {
  "kernelspec": {
   "display_name": "Python 3",
   "language": "python",
   "name": "python3"
  },
  "language_info": {
   "codemirror_mode": {
    "name": "ipython",
    "version": 3
   },
   "file_extension": ".py",
   "mimetype": "text/x-python",
   "name": "python",
   "nbconvert_exporter": "python",
   "pygments_lexer": "ipython3",
   "version": "3.11.8"
  }
 },
 "nbformat": 4,
 "nbformat_minor": 2
}
