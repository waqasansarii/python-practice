{
 "cells": [
  {
   "cell_type": "code",
   "execution_count": 1,
   "metadata": {},
   "outputs": [
    {
     "name": "stdout",
     "output_type": "stream",
     "text": [
      "88\n"
     ]
    }
   ],
   "source": [
    "from typing import Union\n",
    "per : Union[int , float] = 88\n",
    "\n",
    "print(per)"
   ]
  },
  {
   "cell_type": "code",
   "execution_count": 43,
   "metadata": {},
   "outputs": [
    {
     "name": "stdout",
     "output_type": "stream",
     "text": [
      "[88, 90.5, 60, 77, 83, 54, 75]\n",
      "['A+', 'A+', 'B', 'A', 'A+', 'C', 'A']\n"
     ]
    }
   ],
   "source": [
    "from typing import Union\n",
    "PercentageType = Union[int , float]  \n",
    "percentages : list[PercentageType] = [88, 90.5 , 60 , 77, 83 , 54 , 75]\n",
    "   \n",
    "grades :list[str] = []\n",
    "roll_number: list[str] = []\n",
    "\n",
    "for percentage in percentages :\n",
    "    grade : str = '' \n",
    "    roll = None\n",
    "    if percentage >= 80 :\n",
    "        grade = 'A+'\n",
    "    elif percentage >= 70 and percentage < 80 :\n",
    "        grade = 'A'\n",
    "    elif percentage >= 60 and percentage < 70 :\n",
    "        grade = 'B'\n",
    "    elif percentage >= 50 and percentage < 60 :\n",
    "        grade = 'C'\n",
    "    else :\n",
    "        grade = 'Fail'\n",
    "    roll_number.append(percentages.index(percentage))    \n",
    "    grades.append(grade) \n",
    "\n",
    "print(percentages)\n",
    "print(grades)\n",
    "\n",
    "zip(percentages , grades) # zip and enumarator are ganerator functions, that will be run using list or for loop functions.\n",
    "data_base = list(zip(roll_number,percentages , grades)) \n",
    "\n",
    "        \n",
    "# list(zip('abcdefg', range(8), range(6)))        "
   ]
  },
  {
   "cell_type": "code",
   "execution_count": 45,
   "metadata": {},
   "outputs": [
    {
     "name": "stdout",
     "output_type": "stream",
     "text": [
      "[(1, 90.5, 'A+'), (0, 88, 'A+'), (4, 83, 'A+'), (3, 77, 'A'), (6, 75, 'A'), (2, 60, 'B'), (5, 54, 'C')]\n"
     ]
    }
   ],
   "source": [
    "user_sort = sorted( data_base ,key= lambda x:x[1] , reverse=True )\n",
    "print(user_sort)"
   ]
  },
  {
   "cell_type": "code",
   "execution_count": 50,
   "metadata": {},
   "outputs": [
    {
     "data": {
      "text/plain": [
       "['ALI', 'Shayan', 'Ismail', 'Sufyan']"
      ]
     },
     "execution_count": 50,
     "metadata": {},
     "output_type": "execute_result"
    }
   ],
   "source": [
    "# list comprehensive\n",
    "\n",
    "users : list[str] = ['ali', 'shayan' , 'ismail' , 'sufyan']\n",
    "[user.upper() if user=='ali' else user.title() for user in users]"
   ]
  },
  {
   "cell_type": "code",
   "execution_count": 51,
   "metadata": {},
   "outputs": [
    {
     "data": {
      "text/plain": [
       "True"
      ]
     },
     "execution_count": 51,
     "metadata": {},
     "output_type": "execute_result"
    }
   ],
   "source": [
    "users : list[str] = ['ali', 'shayan' , 'ismail' , 'sufyan']\n",
    "\n",
    "'ali' in users # in = checking the value if exists or not"
   ]
  },
  {
   "cell_type": "code",
   "execution_count": 53,
   "metadata": {},
   "outputs": [
    {
     "name": "stdout",
     "output_type": "stream",
     "text": [
      "You can send messages\n"
     ]
    }
   ],
   "source": [
    "users_block : list[str] = ['ali', 'shayan' , 'ismail' , 'sufyan']\n",
    "user_inp = 'waqas'\n",
    "\n",
    "if user_inp not in users :\n",
    "    print('You can send messages')\n"
   ]
  },
  {
   "cell_type": "code",
   "execution_count": 58,
   "metadata": {},
   "outputs": [
    {
     "name": "stdout",
     "output_type": "stream",
     "text": [
      "sorry not available\n"
     ]
    }
   ],
   "source": [
    "available_toppings = ['abc', 'def']\n",
    "user_toppings = input('Enter name').split(',')\n",
    "\n",
    "for toppings in user_toppings:\n",
    "    if toppings in available_toppings : \n",
    "        print('added toppings in your pizza')\n",
    "    else:\n",
    "        print('sorry not available')    "
   ]
  }
 ],
 "metadata": {
  "kernelspec": {
   "display_name": "Python 3",
   "language": "python",
   "name": "python3"
  },
  "language_info": {
   "codemirror_mode": {
    "name": "ipython",
    "version": 3
   },
   "file_extension": ".py",
   "mimetype": "text/x-python",
   "name": "python",
   "nbconvert_exporter": "python",
   "pygments_lexer": "ipython3",
   "version": "3.11.8"
  }
 },
 "nbformat": 4,
 "nbformat_minor": 2
}
