{
 "cells": [
  {
   "cell_type": "markdown",
   "metadata": {},
   "source": [
    "# Functions\n",
    "* pre-defined functions\n",
    "   * provided by in a language\n",
    "* user-defined functions\n",
    "   * custom functions\n",
    "\n",
    "\n",
    "# Components\n",
    "* function daclaration\n",
    "* function body\n",
    "* function calling\n",
    "\n",
    "# syntax lambda function\n",
    "* one line function\n",
    "* without name function\n",
    "* only use in this line \n",
    "\n",
    "```\n",
    "lambda param1, param2 : function_body\n",
    "\n",
    "```"
   ]
  },
  {
   "cell_type": "code",
   "execution_count": 7,
   "metadata": {},
   "outputs": [
    {
     "name": "stdout",
     "output_type": "stream",
     "text": [
      "Piaic\n"
     ]
    },
    {
     "data": {
      "text/plain": [
       "13"
      ]
     },
     "execution_count": 7,
     "metadata": {},
     "output_type": "execute_result"
    }
   ],
   "source": [
    "def Piaic()-> None:\n",
    "    print('Piaic')\n",
    "    \n",
    "Piaic()   \n",
    "\n",
    "def add_two_numbers(num1 : int, num2: int = 0)-> int:\n",
    "    return num1 + num2\n",
    "\n",
    "# print(add_two_numbers(10,20)) \n",
    "add_two_numbers(5,8)"
   ]
  },
  {
   "cell_type": "code",
   "execution_count": null,
   "metadata": {},
   "outputs": [],
   "source": [
    "def add_two_numbers(num1 : int, num2: int = 0)-> int:\n",
    "    return num1 + num2\n",
    "\n",
    "# print(add_two_numbers(10,20)) \n",
    "add_two_numbers(num2=5,num1=8) # keyword argument"
   ]
  },
  {
   "cell_type": "code",
   "execution_count": 4,
   "metadata": {},
   "outputs": [
    {
     "data": {
      "text/plain": [
       "14"
      ]
     },
     "execution_count": 4,
     "metadata": {},
     "output_type": "execute_result"
    }
   ],
   "source": [
    "# lambda function\n",
    "# we use lambda function to save the memory\n",
    "\n",
    "from typing import Callable\n",
    "\n",
    "a: Callable[[int,int], int] = lambda num1 , num2 : num1 + num2\n",
    "a(5,9)"
   ]
  },
  {
   "cell_type": "code",
   "execution_count": 13,
   "metadata": {},
   "outputs": [
    {
     "data": {
      "text/plain": [
       "[1.0, 12.5, 2.5, 3.0, 1.5, 3.0, 1.0, 4.5, 3.5]"
      ]
     },
     "execution_count": 13,
     "metadata": {},
     "output_type": "execute_result"
    }
   ],
   "source": [
    "data : list[int] = [2,25,5,6,3,6,2,9,7]\n",
    "\n",
    "datas = map(lambda  x : x / 2 , data)\n",
    "\n",
    "list(datas)\n",
    "\n"
   ]
  },
  {
   "cell_type": "code",
   "execution_count": 16,
   "metadata": {},
   "outputs": [
    {
     "data": {
      "text/plain": [
       "[25, 5, 3, 9, 7]"
      ]
     },
     "execution_count": 16,
     "metadata": {},
     "output_type": "execute_result"
    }
   ],
   "source": [
    "data : list[int] = [2,25,5,6,3,6,2,9,7] \n",
    "\n",
    "filter_even_num = list(filter( lambda x:x % 2 !=0  , data))\n",
    "\n",
    "filter_even_num"
   ]
  },
  {
   "cell_type": "code",
   "execution_count": 21,
   "metadata": {},
   "outputs": [
    {
     "data": {
      "text/plain": [
       "[2, 6, 6, 2]"
      ]
     },
     "execution_count": 21,
     "metadata": {},
     "output_type": "execute_result"
    }
   ],
   "source": [
    "from typing import Callable\n",
    "data : list[int] = [2,25,5,6,3,6,2,9,7]\n",
    "\n",
    "a : Callable[[int,int], int] = lambda x:x % 2 == 0\n",
    "\n",
    "filter_even_num : list[int] = list(filter( a  , data))\n",
    "\n",
    "filter_even_num"
   ]
  },
  {
   "cell_type": "markdown",
   "metadata": {},
   "source": [
    "# Generator function\n",
    "* iterate on elements one by one\n",
    "* stop after each iteration\n",
    "* remember old iteration value (last iterate value)\n",
    "* next iterate\n",
    "    * go forwat from the last iterate value\n",
    "\n",
    "\n",
    "# What are Generators in Python?\n",
    "* Generators are basically functions that return traversable objects or items. These functions do not produce all the items at once, rather they produce them one at a time and only when required. Whenever the for statement is included to iterate over a set of items, a generator function is run. Generators have a number of advantages as well.\n",
    "\n",
    "# Advantages of using Generators\n",
    "* Without Generators in Python, producing iterables is extremely difficult and lengthy.\n",
    "Generators easy to implement as they automatically implement __iter__(), __next__(), and StopIteration which otherwise, need to be explicitly specified.\n",
    "Memory is saved as the items are produced when required, unlike normal Python functions. This fact becomes very important when you need to create a huge number of iterators. This is also considered as the biggest advantage of generators.\n",
    "Can be used to produce an infinite number of items.\n",
    "They can also be used to pipeline a number of operations\n",
    "\n",
    "# Normal Functions vs Generator Functions:\n",
    "* Generators in Python are created just like how you create normal functions using the ‘def’ keyword. But, Generator functions make use of the yield keyword instead of return. This is done to notify the interpreter that this is an iterator. Not just this, Generator functions are run when the next() function is called and not by their name as in the case of normal functions.    "
   ]
  },
  {
   "cell_type": "code",
   "execution_count": 27,
   "metadata": {},
   "outputs": [
    {
     "name": "stdout",
     "output_type": "stream",
     "text": [
      "[1, 2, 3, 4, 5, 6, 7, 8, 9, 10]\n"
     ]
    }
   ],
   "source": [
    "# generator function\n",
    "\n",
    "def my_range(start: int , end:int , step:int):\n",
    "    for i in range(start,end+ 1):\n",
    "        yield i # generator function \n",
    "        \n",
    "a = my_range(1, 10 , 1)\n",
    "a     \n",
    "print(list(a))   "
   ]
  },
  {
   "cell_type": "code",
   "execution_count": 32,
   "metadata": {},
   "outputs": [
    {
     "name": "stdout",
     "output_type": "stream",
     "text": [
      "1\n",
      "2\n",
      "3\n",
      "4\n",
      "pakistan\n",
      "5\n"
     ]
    }
   ],
   "source": [
    "# we can also call the generator function using next() function\n",
    "a = my_range(1, 10 , 1)\n",
    "\n",
    "print(next(a))\n",
    "print(next(a))\n",
    "print(next(a))\n",
    "print(next(a))\n",
    "print('pakistan')\n",
    "print(next(a))\n"
   ]
  },
  {
   "cell_type": "code",
   "execution_count": 45,
   "metadata": {},
   "outputs": [
    {
     "name": "stdout",
     "output_type": "stream",
     "text": [
      "1\n",
      "2\n",
      "<class 'generator'>\n"
     ]
    }
   ],
   "source": [
    "# latest way to write generator function \n",
    "from collections.abc import Iterator\n",
    "\n",
    "def my_range_two(a: int, b:int)-> Iterator[int]:\n",
    "    for i in range(a , b + 1):\n",
    "        yield i\n",
    "        \n",
    "generator_func = my_range_two(1 , 8)   \n",
    "\n",
    "print(next(generator_func))  \n",
    "print(next(generator_func))  \n",
    "print(type(generator_func))   "
   ]
  },
  {
   "cell_type": "code",
   "execution_count": 46,
   "metadata": {},
   "outputs": [
    {
     "name": "stdout",
     "output_type": "stream",
     "text": [
      "1\n",
      "2\n",
      "3\n",
      "4\n",
      "5\n",
      "6\n",
      "7\n",
      "8\n"
     ]
    }
   ],
   "source": [
    "generator_func = my_range_two(1 , 8)   \n",
    "\n",
    "for i in generator_func:\n",
    "    print(i)"
   ]
  },
  {
   "cell_type": "markdown",
   "metadata": {},
   "source": [
    "# pass unlimited arugments"
   ]
  },
  {
   "cell_type": "code",
   "execution_count": 47,
   "metadata": {},
   "outputs": [
    {
     "name": "stdout",
     "output_type": "stream",
     "text": [
      "(1, 2, 3, 4, 5, 6, 7, 8, 9, 10) <class 'tuple'>\n"
     ]
    }
   ],
   "source": [
    "def my_func (*names):\n",
    "    print(names , type(names))\n",
    "    \n",
    "my_func(1,2,3,4,5,6,7,8,9,10)    "
   ]
  },
  {
   "cell_type": "code",
   "execution_count": 56,
   "metadata": {},
   "outputs": [
    {
     "name": "stdout",
     "output_type": "stream",
     "text": [
      "(1, 2, 3, 4, 5, 6, 7, 8, 9, 10) <class 'tuple'>\n"
     ]
    }
   ],
   "source": [
    "from typing import Tuple\n",
    "def my_func (*names : Tuple[int, ...])-> None:\n",
    "    print(names , type(names))\n",
    "    \n",
    "my_func(1,2,3,4,5,6,7,8,9,10)  "
   ]
  },
  {
   "cell_type": "code",
   "execution_count": 49,
   "metadata": {},
   "outputs": [
    {
     "name": "stdout",
     "output_type": "stream",
     "text": [
      "{'a': 1, 'b': 3, 'c': 'waqas'} <class 'dict'>\n"
     ]
    }
   ],
   "source": [
    "def my_func (**names):\n",
    "    print(names, type(names))\n",
    "    \n",
    "my_func(a=1 , b=3 , c='waqas')    "
   ]
  },
  {
   "cell_type": "code",
   "execution_count": 57,
   "metadata": {},
   "outputs": [
    {
     "name": "stdout",
     "output_type": "stream",
     "text": [
      "{'a': 1, 'b': 3, 'c': 'waqas'} <class 'dict'>\n"
     ]
    }
   ],
   "source": [
    "from typing import Dict, Union\n",
    "def my_func (**names : Dict[str , Union[int, str] ]) -> None:\n",
    "    print(names, type(names))\n",
    "    \n",
    "my_func(a=1 , b=3 , c='waqas') "
   ]
  },
  {
   "cell_type": "code",
   "execution_count": 58,
   "metadata": {},
   "outputs": [
    {
     "name": "stdout",
     "output_type": "stream",
     "text": [
      "1 2 (3, 5, 6, 8) {'abc': 1, 'de': 2, 'c': 3, 'd': 4, 'e': 5, 'f': 6, 'g': 7, 'h': 8, 'i': 9, 'j': 10}\n"
     ]
    }
   ],
   "source": [
    "from typing import Dict, Tuple , Union\n",
    "def my_func ( a : int , b:int , *names:Tuple[int, ...] , **kargs: Dict[str, int])-> None:\n",
    "    print(a , b , names , kargs)\n",
    "    \n",
    "my_func(1,2,3,5,6,8,abc=1,de=2,c=3,d=4,e=5,f=6,g=7,h=8,i=9,j=10)  "
   ]
  },
  {
   "cell_type": "code",
   "execution_count": 59,
   "metadata": {},
   "outputs": [
    {
     "name": "stdout",
     "output_type": "stream",
     "text": [
      "1 2 (3, 5, 6, 8) {'abc': 1, 'de': 2, 'c': 3, 'd': 4, 'e': 5, 'f': 6, 'g': 7, 'h': 8, 'i': 9, 'j': 10}\n"
     ]
    }
   ],
   "source": [
    "def my_func ( a : int , b:int , *names:int , **kargs: int)-> None:\n",
    "    print(a , b , names , kargs)\n",
    "    \n",
    "my_func(1,2,3,5,6,8,abc=1,de=2,c=3,d=4,e=5,f=6,g=7,h=8,i=9,j=10)  "
   ]
  },
  {
   "cell_type": "code",
   "execution_count": 61,
   "metadata": {},
   "outputs": [
    {
     "name": "stdout",
     "output_type": "stream",
     "text": [
      "before calling the function\n",
      "inside my decorator\n",
      "after calling the function\n"
     ]
    }
   ],
   "source": [
    "from typing import Callable\n",
    "def my_decorator (func : Callable[[], None])-> Callable[[], None]:\n",
    "    def wrapper():\n",
    "        print('before calling the function')\n",
    "        func()\n",
    "        print('after calling the function')\n",
    "    return wrapper\n",
    "\n",
    "\n",
    "@my_decorator\n",
    "def my_func() -> None:\n",
    "    print('inside my decorator')\n",
    "    \n",
    "my_func()        "
   ]
  },
  {
   "cell_type": "code",
   "execution_count": 38,
   "metadata": {},
   "outputs": [
    {
     "name": "stdout",
     "output_type": "stream",
     "text": [
      "before calling the function\n",
      "wrapper 5\n",
      "inside my decorator\n",
      "my funcs 0 1\n",
      "wrapper num2 88\n",
      "after calling the function\n"
     ]
    }
   ],
   "source": [
    "from typing import Callable\n",
    "def my_decorator (func : Callable[[int,int], None])-> Callable[[], None]:\n",
    "    def wrapper(num1:int,num2: int ):\n",
    "        print('before calling the function')\n",
    "        print('wrapper',num1)\n",
    "        func() # here my_func is called\n",
    "        print('wrapper num2' , num2)\n",
    "        print('after calling the function')\n",
    "    return wrapper\n",
    "\n",
    "\n",
    "@my_decorator\n",
    "def my_func(num1:int=0,num2:int=1) -> None:\n",
    "    print('inside my decorator')\n",
    "    print('my funcs',num1,num2)\n",
    "my_func(5,88)   # we are calling my_func at the same time decorator function is called"
   ]
  },
  {
   "cell_type": "markdown",
   "metadata": {},
   "source": [
    "# Recursive function\n"
   ]
  },
  {
   "cell_type": "code",
   "execution_count": 41,
   "metadata": {},
   "outputs": [
    {
     "name": "stdout",
     "output_type": "stream",
     "text": [
      "factorial of 6 is 720\n"
     ]
    }
   ],
   "source": [
    "def factorial(x : int) -> int:\n",
    "    if x==1:\n",
    "        return 1\n",
    "    else:\n",
    "        return(x * factorial(x-1))\n",
    "    \n",
    "    \n",
    "num: int = 6\n",
    "\n",
    "print(f'factorial of {num} is {factorial(num)}')    "
   ]
  },
  {
   "cell_type": "markdown",
   "metadata": {},
   "source": [
    "# Higher-order Functions"
   ]
  },
  {
   "cell_type": "code",
   "execution_count": 44,
   "metadata": {},
   "outputs": [
    {
     "name": "stdout",
     "output_type": "stream",
     "text": [
      "how are you\n",
      "Pakistan\n"
     ]
    }
   ],
   "source": [
    "from typing import Callable\n",
    "\n",
    "def apply ( func : Callable[[],None])-> None :\n",
    "    print('how are you')\n",
    "    func()\n",
    "    \n",
    "def helloworld():\n",
    "    print('Pakistan')\n",
    "    \n",
    "apply(helloworld)        "
   ]
  },
  {
   "cell_type": "code",
   "execution_count": 47,
   "metadata": {},
   "outputs": [
    {
     "name": "stdout",
     "output_type": "stream",
     "text": [
      "25\n"
     ]
    }
   ],
   "source": [
    "from typing import Callable\n",
    "\n",
    "def apply(func: Callable[[int], int], value: int) -> int:\n",
    "    return func(value)\n",
    "\n",
    "val = 5\n",
    "result = apply(lambda x: x ** 2, val)\n",
    "print(result)\n",
    "     "
   ]
  },
  {
   "cell_type": "markdown",
   "metadata": {},
   "source": [
    "# Closures"
   ]
  },
  {
   "cell_type": "code",
   "execution_count": 48,
   "metadata": {},
   "outputs": [
    {
     "name": "stdout",
     "output_type": "stream",
     "text": [
      "x 10 y 5\n",
      "15\n"
     ]
    }
   ],
   "source": [
    "from typing import Callable\n",
    "\n",
    "def outer_func(x: int) -> Callable[[int], int]:\n",
    "    def inner_func(y: int) -> int:\n",
    "        print('x',x,'y',y)\n",
    "        return x + y\n",
    "    return inner_func\n",
    "\n",
    "closure = outer_func(10)\n",
    "print(closure(5)) "
   ]
  },
  {
   "cell_type": "markdown",
   "metadata": {},
   "source": [
    "# Docstrings"
   ]
  },
  {
   "cell_type": "code",
   "execution_count": 49,
   "metadata": {},
   "outputs": [],
   "source": [
    "def add_numbers(a: int, b: int) -> int:\n",
    "    \"\"\"\n",
    "    This function adds two numbers.\n",
    "\n",
    "    Parameters:\n",
    "       a (int): The first number.\n",
    "       b (int): The second number.\n",
    "\n",
    "    Returns:\n",
    "       int: The sum of the two numbers.\n",
    "    \"\"\"\n",
    "    return a + b"
   ]
  },
  {
   "cell_type": "code",
   "execution_count": 51,
   "metadata": {},
   "outputs": [
    {
     "name": "stdout",
     "output_type": "stream",
     "text": [
      "{'first': 'jimi', 'last': 'hendrix'}\n"
     ]
    }
   ],
   "source": [
    "from typing import Dict\n",
    "def build_person(first_name:str, last_name:str)-> Dict[str,str]:\n",
    "    person = {\"first\": first_name, \"last\": last_name}\n",
    "    return person\n",
    "\n",
    "musician = build_person('jimi', 'hendrix')\n",
    "print(musician)"
   ]
  }
 ],
 "metadata": {
  "kernelspec": {
   "display_name": "Python 3",
   "language": "python",
   "name": "python3"
  },
  "language_info": {
   "codemirror_mode": {
    "name": "ipython",
    "version": 3
   },
   "file_extension": ".py",
   "mimetype": "text/x-python",
   "name": "python",
   "nbconvert_exporter": "python",
   "pygments_lexer": "ipython3",
   "version": "3.11.8"
  }
 },
 "nbformat": 4,
 "nbformat_minor": 2
}
