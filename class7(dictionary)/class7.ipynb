{
 "cells": [
  {
   "cell_type": "code",
   "execution_count": 8,
   "metadata": {},
   "outputs": [
    {
     "name": "stdout",
     "output_type": "stream",
     "text": [
      "24\n",
      "Raees Ahmed\n",
      "['Reactjs', 'Nodejs']\n",
      "{'age': 24,\n",
      " 'city': 'Karachi',\n",
      " 'country': 'Pakistan',\n",
      " 'fname': 'Raees Ahmed',\n",
      " 'lname': 'Waqas',\n",
      " 'qualification': 'BSCS',\n",
      " 'skills': ['Reactjs', 'Nodejs']}\n",
      "{'age': 24,\n",
      " 'city': 'Karachi',\n",
      " 'country': 'Pakistan',\n",
      " 'fname': 'Raees Ahmed',\n",
      " 'lname': 'Waqas',\n",
      " 'number': 324424331,\n",
      " 'qualification': 'BSCS',\n",
      " 'skills': ['Reactjs', 'Nodejs']}\n"
     ]
    }
   ],
   "source": [
    "from typing import Dict, Union\n",
    "import pprint\n",
    "\n",
    "Key = Union[int,str]\n",
    "Value = Union[int , str,list]\n",
    "\n",
    "user_info : Dict[Key, Value] = {'fname':'Raees Ahmed',\n",
    "                                'lname':'Waqas',\n",
    "                                'age':24,\n",
    "                                'city':'Karachi',\n",
    "                                'country':'Pakistan',\n",
    "                                'qualification':'BSCS',\n",
    "                                'skills':['Reactjs','Nodejs']\n",
    "                                \n",
    "                                }\n",
    "\n",
    "print(user_info['age'])\n",
    "print(user_info['fname'])\n",
    "print(user_info['skills'])\n",
    "pprint.pprint(user_info)\n",
    "\n",
    "user_info['number'] = 324424331\n",
    "\n",
    "\n",
    "pprint.pprint(user_info)"
   ]
  },
  {
   "cell_type": "code",
   "execution_count": 7,
   "metadata": {},
   "outputs": [
    {
     "name": "stdout",
     "output_type": "stream",
     "text": [
      "{1, 2, 3, 4, 5, 7}\n",
      "[1, 2, 3, 4, 5, 7]\n"
     ]
    }
   ],
   "source": [
    "abc : set = {1,2,3,1,5,7,4,2,2,3,3,5,4,7,1,1,1}\n",
    "print(abc)\n",
    "print(list(abc))"
   ]
  },
  {
   "cell_type": "code",
   "execution_count": 11,
   "metadata": {},
   "outputs": [
    {
     "name": "stdout",
     "output_type": "stream",
     "text": [
      "dict_keys(['fname', 'lname', 'age', 'city', 'country', 'qualification', 'skills'])\n",
      "dict_values(['Raees Ahmed', 'Waqas', 24, 'Karachi', 'Pakistan', 'BSCS', ['Reactjs', 'Nodejs']])\n"
     ]
    },
    {
     "data": {
      "text/plain": [
       "[('fname', 'Raees Ahmed'),\n",
       " ('lname', 'Waqas'),\n",
       " ('age', 24),\n",
       " ('city', 'Karachi'),\n",
       " ('country', 'Pakistan'),\n",
       " ('qualification', 'BSCS'),\n",
       " ('skills', ['Reactjs', 'Nodejs'])]"
      ]
     },
     "execution_count": 11,
     "metadata": {},
     "output_type": "execute_result"
    }
   ],
   "source": [
    "from typing import Dict, Union\n",
    "import pprint\n",
    "\n",
    "Key = Union[int,str]\n",
    "Value = Union[int , str,list]\n",
    "\n",
    "user_info : Dict[Key, Value] = {'fname':'Raees Ahmed',\n",
    "                                'lname':'Waqas',\n",
    "                                'age':24,\n",
    "                                'city':'Karachi',\n",
    "                                'country':'Pakistan',\n",
    "                                'qualification':'BSCS',\n",
    "                                'skills':['Reactjs','Nodejs']\n",
    "                                \n",
    "                                }\n",
    "\n",
    "print(user_info.keys())\n",
    "print(user_info.values())\n",
    "list(zip(user_info.keys(),user_info.values()))"
   ]
  },
  {
   "cell_type": "code",
   "execution_count": 18,
   "metadata": {},
   "outputs": [
    {
     "name": "stdout",
     "output_type": "stream",
     "text": [
      "Raees Ahmed\n",
      "None\n",
      "not available\n",
      "Waqas\n"
     ]
    }
   ],
   "source": [
    "from typing import Dict, Union\n",
    "import pprint\n",
    "\n",
    "Key = Union[int,str]\n",
    "Value = Union[int , str,list]\n",
    "\n",
    "user_info : Dict[Key, Value] = {'fname':'Raees Ahmed',\n",
    "                                'lname':'Waqas',\n",
    "                                'age':24,\n",
    "                                'city':'Karachi',\n",
    "                                'country':'Pakistan',\n",
    "                                'qualification':'BSCS',\n",
    "                                'skills':['Reactjs','Nodejs']\n",
    "                                \n",
    "                                }\n",
    "\n",
    "print(user_info.get('fname'))\n",
    "print(user_info.get('edu'))\n",
    "# print(user_info['edu'])\n",
    "# we can use get methond to get the value by key, if key is not exists then we can show the error message \n",
    "print(user_info.get('edu','not available'))\n",
    "print(user_info.get('lname','not available'))"
   ]
  },
  {
   "cell_type": "code",
   "execution_count": 19,
   "metadata": {},
   "outputs": [
    {
     "name": "stdout",
     "output_type": "stream",
     "text": [
      "fname\n",
      "lname\n",
      "age\n",
      "city\n",
      "country\n",
      "qualification\n",
      "skills\n"
     ]
    }
   ],
   "source": [
    "from typing import Dict, Union\n",
    "import pprint\n",
    "\n",
    "Key = Union[int,str]\n",
    "Value = Union[int , str,list]\n",
    "\n",
    "user_info : Dict[Key, Value] = {'fname':'Raees Ahmed',\n",
    "                                'lname':'Waqas',\n",
    "                                'age':24,\n",
    "                                'city':'Karachi',\n",
    "                                'country':'Pakistan',\n",
    "                                'qualification':'BSCS',\n",
    "                                'skills':['Reactjs','Nodejs']\n",
    "                                \n",
    "                                }\n",
    "\n",
    "for k in user_info.keys():\n",
    "    print(k)"
   ]
  },
  {
   "cell_type": "code",
   "execution_count": 20,
   "metadata": {},
   "outputs": [
    {
     "name": "stdout",
     "output_type": "stream",
     "text": [
      "Raees Ahmed\n",
      "Waqas\n",
      "24\n",
      "Karachi\n",
      "Pakistan\n",
      "BSCS\n",
      "['Reactjs', 'Nodejs']\n"
     ]
    }
   ],
   "source": [
    "from typing import Dict, Union\n",
    "import pprint\n",
    "\n",
    "Key = Union[int,str]\n",
    "Value = Union[int , str,list]\n",
    "\n",
    "user_info : Dict[Key, Value] = {'fname':'Raees Ahmed',\n",
    "                                'lname':'Waqas',\n",
    "                                'age':24,\n",
    "                                'city':'Karachi',\n",
    "                                'country':'Pakistan',\n",
    "                                'qualification':'BSCS',\n",
    "                                'skills':['Reactjs','Nodejs']\n",
    "                                \n",
    "                                }\n",
    "\n",
    "for v in user_info.values():\n",
    "    print(v)"
   ]
  },
  {
   "cell_type": "code",
   "execution_count": 21,
   "metadata": {},
   "outputs": [
    {
     "name": "stdout",
     "output_type": "stream",
     "text": [
      "fname Raees Ahmed\n",
      "lname Waqas\n",
      "age 24\n",
      "city Karachi\n",
      "country Pakistan\n",
      "qualification BSCS\n",
      "skills ['Reactjs', 'Nodejs']\n"
     ]
    }
   ],
   "source": [
    "from typing import Dict, Union\n",
    "import pprint\n",
    "\n",
    "Key = Union[int,str]\n",
    "Value = Union[int , str,list]\n",
    "\n",
    "user_info : Dict[Key, Value] = {'fname':'Raees Ahmed',\n",
    "                                'lname':'Waqas',\n",
    "                                'age':24,\n",
    "                                'city':'Karachi',\n",
    "                                'country':'Pakistan',\n",
    "                                'qualification':'BSCS',\n",
    "                                'skills':['Reactjs','Nodejs']\n",
    "                                \n",
    "                                }\n",
    "\n",
    "for k in user_info.keys():\n",
    "    print(k , user_info[k])"
   ]
  },
  {
   "cell_type": "code",
   "execution_count": 24,
   "metadata": {},
   "outputs": [
    {
     "name": "stdout",
     "output_type": "stream",
     "text": [
      "dict_items([('fname', 'Raees Ahmed'), ('lname', 'Waqas'), ('age', 24), ('city', 'Karachi'), ('country', 'Pakistan'), ('qualification', 'BSCS'), ('skills', ['Reactjs', 'Nodejs'])])\n",
      "fname Raees Ahmed\n",
      "lname Waqas\n",
      "age 24\n",
      "city Karachi\n",
      "country Pakistan\n",
      "qualification BSCS\n",
      "skills ['Reactjs', 'Nodejs']\n"
     ]
    }
   ],
   "source": [
    "from typing import Dict, Union\n",
    "import pprint\n",
    "\n",
    "Key = Union[int,str]\n",
    "Value = Union[int , str,list]\n",
    "\n",
    "user_info : Dict[Key, Value] = {'fname':'Raees Ahmed',\n",
    "                                'lname':'Waqas',\n",
    "                                'age':24,\n",
    "                                'city':'Karachi',\n",
    "                                'country':'Pakistan',\n",
    "                                'qualification':'BSCS',\n",
    "                                'skills':['Reactjs','Nodejs']\n",
    "                                \n",
    "                                }\n",
    "pprint.pprint(user_info.items())\n",
    "\n",
    "for k,v in user_info.items():\n",
    "    print(k,v)"
   ]
  },
  {
   "cell_type": "code",
   "execution_count": 30,
   "metadata": {},
   "outputs": [
    {
     "data": {
      "text/plain": [
       "{'fname': 'Raees Ahmed',\n",
       " 'lname': 'Waqas',\n",
       " 'age': 24,\n",
       " 'city': 'Karachi',\n",
       " 'country': 'Pakistan',\n",
       " 'qualification': 'BSCS',\n",
       " 'skills': ['Reactjs', 'Nodejs']}"
      ]
     },
     "execution_count": 30,
     "metadata": {},
     "output_type": "execute_result"
    }
   ],
   "source": [
    "from typing import Dict, Union\n",
    "import pprint\n",
    "\n",
    "Key = Union[int,str]\n",
    "Value = Union[int , str,list]\n",
    "\n",
    "user_info : Dict[Key, Value] = {'fname':'Raees Ahmed',\n",
    "                                'lname':'Waqas',\n",
    "                                'age':24,\n",
    "                                'city':'Karachi',\n",
    "                                'country':'Pakistan',\n",
    "                                'qualification':'BSCS',\n",
    "                                'skills':['Reactjs','Nodejs']\n",
    "                                \n",
    "                                }\n",
    "\n",
    "{v:k  for v,k in user_info.items()}"
   ]
  },
  {
   "cell_type": "code",
   "execution_count": 35,
   "metadata": {},
   "outputs": [
    {
     "name": "stdout",
     "output_type": "stream",
     "text": [
      "{'id': None, 'name': None, 'email': None, 'number': None}\n",
      "{}\n",
      "{'id': None, 'name': None, 'email': None, 'number': None}\n"
     ]
    }
   ],
   "source": [
    "users_key:list[str] = ['id','name','email','number']\n",
    "\n",
    "user_data : Dict[Key , Value] = {}\n",
    "\n",
    "print(user_data.fromkeys(users_key))\n",
    "print(user_data)\n",
    "user_data = user_data.fromkeys(users_key)\n",
    "print(user_data)"
   ]
  },
  {
   "cell_type": "code",
   "execution_count": 36,
   "metadata": {},
   "outputs": [
    {
     "name": "stdout",
     "output_type": "stream",
     "text": [
      "{}\n"
     ]
    }
   ],
   "source": [
    "from typing import Dict, Union\n",
    "import pprint\n",
    "\n",
    "Key = Union[int,str]\n",
    "Value = Union[int , str,list]\n",
    "\n",
    "user_info : Dict[Key, Value] = {'fname':'Raees Ahmed',\n",
    "                                'lname':'Waqas',\n",
    "                                'age':24,\n",
    "                                'city':'Karachi',\n",
    "                                'country':'Pakistan',\n",
    "                                'qualification':'BSCS',\n",
    "                                'skills':['Reactjs','Nodejs']\n",
    "                                \n",
    "                                }\n",
    "\n",
    "user_info.clear()\n",
    "\n",
    "print(user_info)"
   ]
  },
  {
   "cell_type": "code",
   "execution_count": 37,
   "metadata": {},
   "outputs": [
    {
     "name": "stdout",
     "output_type": "stream",
     "text": [
      "{'fname': 'Raees Ahmed', 'lname': 'Waqas', 'city': 'Karachi', 'country': 'Pakistan', 'qualification': 'BSCS', 'skills': ['Reactjs', 'Nodejs']}\n",
      "24\n"
     ]
    }
   ],
   "source": [
    "from typing import Dict, Union\n",
    "import pprint\n",
    "\n",
    "Key = Union[int,str]\n",
    "Value = Union[int , str,list]\n",
    "\n",
    "user_info : Dict[Key, Value] = {'fname':'Raees Ahmed',\n",
    "                                'lname':'Waqas',\n",
    "                                'age':24,\n",
    "                                'city':'Karachi',\n",
    "                                'country':'Pakistan',\n",
    "                                'qualification':'BSCS',\n",
    "                                'skills':['Reactjs','Nodejs']\n",
    "                                \n",
    "                                }\n",
    "\n",
    "a = user_info.pop('age')\n",
    "\n",
    "print(user_info)\n",
    "print(a)"
   ]
  },
  {
   "cell_type": "code",
   "execution_count": 2,
   "metadata": {},
   "outputs": [
    {
     "name": "stdout",
     "output_type": "stream",
     "text": [
      "{'age': 24,\n",
      " 'city': 'Karachi',\n",
      " 'country': 'Pakistan',\n",
      " 'fname': 'Raees Ahmed',\n",
      " 'lname': 'Waqas',\n",
      " 'qualification': 'BSCS'}\n",
      "('skills', ['Reactjs', 'Nodejs'])\n"
     ]
    }
   ],
   "source": [
    "from typing import Dict, Union\n",
    "import pprint\n",
    "\n",
    "Key = Union[int,str]\n",
    "Value = Union[int , str,list]\n",
    "\n",
    "user_info : Dict[Key, Value] = {'fname':'Raees Ahmed',\n",
    "                                'lname':'Waqas',\n",
    "                                'age':24,\n",
    "                                'city':'Karachi',\n",
    "                                'country':'Pakistan',\n",
    "                                'qualification':'BSCS',\n",
    "                                'skills':['Reactjs','Nodejs']\n",
    "                                \n",
    "                                }\n",
    "\n",
    "a = user_info.popitem()\n",
    "\n",
    "pprint.pprint(user_info)\n",
    "print(a)"
   ]
  },
  {
   "cell_type": "code",
   "execution_count": 9,
   "metadata": {},
   "outputs": [
    {
     "name": "stdout",
     "output_type": "stream",
     "text": [
      "{'age': 24,\n",
      " 'city': 'Karachi',\n",
      " 'country': 'Pakistan',\n",
      " 'fname': 'Raees Ahmed',\n",
      " 'lname': 'Waqas',\n",
      " 'nationalty': 'pakistan',\n",
      " 'qualification': 'BSCS',\n",
      " 'skills': ['Reactjs', 'Nodejs']}\n",
      "pakistan\n"
     ]
    },
    {
     "data": {
      "text/plain": [
       "['clear',\n",
       " 'copy',\n",
       " 'fromkeys',\n",
       " 'get',\n",
       " 'items',\n",
       " 'keys',\n",
       " 'pop',\n",
       " 'popitem',\n",
       " 'setdefault',\n",
       " 'update',\n",
       " 'values']"
      ]
     },
     "execution_count": 9,
     "metadata": {},
     "output_type": "execute_result"
    }
   ],
   "source": [
    "from typing import Dict, Union\n",
    "import pprint\n",
    "\n",
    "Key = Union[int,str]\n",
    "Value = Union[int , str,list]\n",
    "\n",
    "user_info : Dict[Key, Value] = {'fname':'Raees Ahmed',\n",
    "                                'lname':'Waqas',\n",
    "                                'age':24,\n",
    "                                'city':'Karachi',\n",
    "                                'country':'Pakistan',\n",
    "                                'qualification':'BSCS',\n",
    "                                'skills':['Reactjs','Nodejs']\n",
    "                                \n",
    "                                }\n",
    "\n",
    "a = user_info.setdefault('nationalty','pakistan')\n",
    "\n",
    "pprint.pprint(user_info)\n",
    "print(a)\n",
    "\n",
    "[i for i in dir(user_info) if '__' not in i]"
   ]
  },
  {
   "cell_type": "code",
   "execution_count": 11,
   "metadata": {},
   "outputs": [
    {
     "name": "stdout",
     "output_type": "stream",
     "text": [
      "{'CNIC': 343545233,\n",
      " 'age': 24,\n",
      " 'city': 'Karachi',\n",
      " 'country': 'Pakistan',\n",
      " 'fname': 'Raees Ahmed',\n",
      " 'lname': 'Waqas Ansari',\n",
      " 'qualification': 'BSMS',\n",
      " 'skills': ['Reactjs', 'Nodejs']}\n"
     ]
    }
   ],
   "source": [
    "from typing import Dict, Union\n",
    "import pprint\n",
    "\n",
    "Key = Union[int,str]\n",
    "Value = Union[int , str,list]\n",
    "\n",
    "user_info : Dict[Key, Value] = {'fname':'Raees Ahmed',\n",
    "                                'lname':'Waqas',\n",
    "                                'age':24,\n",
    "                                'city':'Karachi',\n",
    "                                'country':'Pakistan',\n",
    "                                'qualification':'BSCS',\n",
    "                                'skills':['Reactjs','Nodejs']\n",
    "                                \n",
    "                                }\n",
    "\n",
    "data2 : Dict[Key,Value] = {\n",
    "    'fname':'Raees Ahmed',\n",
    "    'lname':'Waqas Ansari',\n",
    "    'age':24,\n",
    "    'city':'Karachi',\n",
    "    'country':'Pakistan',\n",
    "    'qualification':'BSMS',\n",
    "    'CNIC':343545233\n",
    "}\n",
    "\n",
    "a = user_info.update(data2)\n",
    "\n",
    "pprint.pprint(user_info)"
   ]
  },
  {
   "cell_type": "code",
   "execution_count": 12,
   "metadata": {},
   "outputs": [
    {
     "data": {
      "text/html": [
       "<div>\n",
       "<style scoped>\n",
       "    .dataframe tbody tr th:only-of-type {\n",
       "        vertical-align: middle;\n",
       "    }\n",
       "\n",
       "    .dataframe tbody tr th {\n",
       "        vertical-align: top;\n",
       "    }\n",
       "\n",
       "    .dataframe thead th {\n",
       "        text-align: right;\n",
       "    }\n",
       "</style>\n",
       "<table border=\"1\" class=\"dataframe\">\n",
       "  <thead>\n",
       "    <tr style=\"text-align: right;\">\n",
       "      <th></th>\n",
       "      <th>id</th>\n",
       "      <th>name</th>\n",
       "      <th>age</th>\n",
       "      <th>city</th>\n",
       "      <th>country</th>\n",
       "      <th>qualification</th>\n",
       "    </tr>\n",
       "  </thead>\n",
       "  <tbody>\n",
       "    <tr>\n",
       "      <th>0</th>\n",
       "      <td>1</td>\n",
       "      <td>Raees</td>\n",
       "      <td>24</td>\n",
       "      <td>Karachi</td>\n",
       "      <td>Pakistan</td>\n",
       "      <td>BSCS</td>\n",
       "    </tr>\n",
       "    <tr>\n",
       "      <th>1</th>\n",
       "      <td>2</td>\n",
       "      <td>Waqas</td>\n",
       "      <td>25</td>\n",
       "      <td>Karachi</td>\n",
       "      <td>Pakistan</td>\n",
       "      <td>BSCS</td>\n",
       "    </tr>\n",
       "    <tr>\n",
       "      <th>2</th>\n",
       "      <td>3</td>\n",
       "      <td>Ansari</td>\n",
       "      <td>26</td>\n",
       "      <td>Karachi</td>\n",
       "      <td>Pakistan</td>\n",
       "      <td>BSCS</td>\n",
       "    </tr>\n",
       "    <tr>\n",
       "      <th>3</th>\n",
       "      <td>4</td>\n",
       "      <td>Ali</td>\n",
       "      <td>27</td>\n",
       "      <td>Karachi</td>\n",
       "      <td>Pakistan</td>\n",
       "      <td>BSCS</td>\n",
       "    </tr>\n",
       "    <tr>\n",
       "      <th>4</th>\n",
       "      <td>5</td>\n",
       "      <td>Khan</td>\n",
       "      <td>28</td>\n",
       "      <td>Karachi</td>\n",
       "      <td>Pakistan</td>\n",
       "      <td>BSCS</td>\n",
       "    </tr>\n",
       "  </tbody>\n",
       "</table>\n",
       "</div>"
      ],
      "text/plain": [
       "   id    name  age     city   country qualification\n",
       "0   1   Raees   24  Karachi  Pakistan          BSCS\n",
       "1   2   Waqas   25  Karachi  Pakistan          BSCS\n",
       "2   3  Ansari   26  Karachi  Pakistan          BSCS\n",
       "3   4     Ali   27  Karachi  Pakistan          BSCS\n",
       "4   5    Khan   28  Karachi  Pakistan          BSCS"
      ]
     },
     "execution_count": 12,
     "metadata": {},
     "output_type": "execute_result"
    }
   ],
   "source": [
    "import pandas as pd\n",
    "from typing import Any\n",
    "\n",
    "students_data : Dict[str , list[Any] ] = {\n",
    "    'id':[1,2,3,4,5],\n",
    "    'name':['Raees','Waqas','Ansari','Ali','Khan'],\n",
    "    'age':[24,25,26,27,28],\n",
    "    'city':['Karachi','Karachi','Karachi','Karachi','Karachi'],\n",
    "    'country':['Pakistan','Pakistan','Pakistan','Pakistan','Pakistan'],\n",
    "    'qualification':['BSCS','BSCS','BSCS','BSCS','BSCS'],\n",
    "}\n",
    "\n",
    "df : pd.DataFrame = pd.DataFrame(students_data)\n",
    "\n",
    "df"
   ]
  },
  {
   "cell_type": "code",
   "execution_count": 13,
   "metadata": {},
   "outputs": [
    {
     "data": {
      "text/plain": [
       "True"
      ]
     },
     "execution_count": 13,
     "metadata": {},
     "output_type": "execute_result"
    }
   ],
   "source": [
    "'waqas' in 'my name is muhammad waqas'"
   ]
  },
  {
   "cell_type": "code",
   "execution_count": 19,
   "metadata": {},
   "outputs": [
    {
     "name": "stdout",
     "output_type": "stream",
     "text": [
      "{\n",
      "    \"fname\": \"Raees Ahmed\",\n",
      "    \"lname\": \"Waqas\",\n",
      "    \"age\": 24,\n",
      "    \"city\": \"Karachi\",\n",
      "    \"country\": \"Pakistan\",\n",
      "    \"qualification\": \"BSCS\",\n",
      "    \"skills\": [\n",
      "        \"Reactjs\",\n",
      "        \"Nodejs\"\n",
      "    ]\n",
      "}\n"
     ]
    }
   ],
   "source": [
    "from typing import Dict, Union\n",
    "import pprint\n",
    "import json\n",
    "\n",
    "Key = Union[int,str]\n",
    "Value = Union[int , str,list]\n",
    "\n",
    "user_info : Dict[Key, Value] = {'fname':'Raees Ahmed',\n",
    "                                'lname':'Waqas',\n",
    "                                'age':24,\n",
    "                                'city':'Karachi',\n",
    "                                'country':'Pakistan',\n",
    "                                'qualification':'BSCS',\n",
    "                                'skills':['Reactjs','Nodejs']\n",
    "                                \n",
    "                                }\n",
    "\n",
    "user_json = json.dumps(user_info , indent=4 )\n",
    "\n",
    "print(user_json)"
   ]
  },
  {
   "cell_type": "code",
   "execution_count": 20,
   "metadata": {},
   "outputs": [
    {
     "name": "stdout",
     "output_type": "stream",
     "text": [
      "{'color': 'green', 'points': 5, 'speed': 'slow'}\n",
      "...\n",
      "{'color': 'green', 'points': 5, 'speed': 'slow'}\n",
      "...\n",
      "{'color': 'green', 'points': 5, 'speed': 'slow'}\n",
      "...\n",
      "{'color': 'green', 'points': 5, 'speed': 'slow'}\n",
      "...\n",
      "{'color': 'green', 'points': 5, 'speed': 'slow'}\n",
      "...\n",
      "Total number of aliens: 30\n"
     ]
    }
   ],
   "source": [
    "aliens = []\n",
    "# Make 30 green aliens.\n",
    "for alien_number in range(30):\n",
    "    new_alien = {'color': 'green', 'points': 5, 'speed': 'slow'}\n",
    "    aliens.append(new_alien)\n",
    "\n",
    "# Show the first 5 aliens:\n",
    "for alien in aliens[:5]:\n",
    "    print(alien)\n",
    "    print(\"...\")\n",
    "# Show how many aliens have been created.\n",
    "print(\"Total number of aliens: \" + str(len(aliens)))"
   ]
  },
  {
   "cell_type": "code",
   "execution_count": 21,
   "metadata": {},
   "outputs": [
    {
     "name": "stdout",
     "output_type": "stream",
     "text": [
      "{'color': 'yellow', 'points': 10, 'speed': 'medium'}\n",
      "{'color': 'yellow', 'points': 10, 'speed': 'medium'}\n",
      "{'color': 'yellow', 'points': 10, 'speed': 'medium'}\n",
      "{'color': 'green', 'points': 5, 'speed': 'slow'}\n",
      "{'color': 'green', 'points': 5, 'speed': 'slow'}\n"
     ]
    }
   ],
   "source": [
    "aliens = []\n",
    "# Make 30 green aliens.\n",
    "for alien_number in range (0,30):\n",
    " new_alien = {'color': 'green', 'points': 5, 'speed': 'slow'}\n",
    " aliens.append(new_alien)\n",
    "\n",
    "for alien in aliens[0:3]:\n",
    "   if alien['color'] == 'green':\n",
    "      alien['color'] = 'yellow'\n",
    "      alien['speed'] = 'medium'\n",
    "      alien['points'] = 10\n",
    "\n",
    "# Show the first 5 aliens:\n",
    "for alien in aliens[0:5]:\n",
    " print(alien)"
   ]
  },
  {
   "cell_type": "code",
   "execution_count": 22,
   "metadata": {},
   "outputs": [
    {
     "name": "stdout",
     "output_type": "stream",
     "text": [
      "Waqas\n",
      "['Sea view', 'Isb', 'New york']\n",
      "Haris\n",
      "['Sea view', 'Fsd', 'New york']\n",
      "Arman\n",
      "['Sea view', 'Lahore', 'New york']\n"
     ]
    }
   ],
   "source": [
    "favorite_places = {\n",
    "    \"waqas\": ['Sea view' , 'Isb' , 'New york'],\n",
    "    \"haris\":['Sea view' , 'Fsd' , 'New york'],\n",
    "    \"arman\":['Sea view' , 'Lahore' , 'New york']\n",
    "}\n",
    "\n",
    "for names in favorite_places.keys():\n",
    "    print(names.title())\n",
    "    print(favorite_places[names])"
   ]
  },
  {
   "cell_type": "code",
   "execution_count": 23,
   "metadata": {},
   "outputs": [
    {
     "name": "stdout",
     "output_type": "stream",
     "text": [
      "p\n",
      "a\n",
      "k\n",
      "i\n",
      "s\n",
      "t\n",
      "a\n",
      "n\n"
     ]
    }
   ],
   "source": [
    "name : str = 'pakistan'\n",
    "\n",
    "for n in name :\n",
    "    print(n)"
   ]
  },
  {
   "cell_type": "code",
   "execution_count": 24,
   "metadata": {},
   "outputs": [
    {
     "name": "stdout",
     "output_type": "stream",
     "text": [
      "1\n",
      "2\n",
      "3\n",
      "5\n"
     ]
    }
   ],
   "source": [
    "set_type : set[int] = {1,2,5,5,3,2,3,5,1}\n",
    "\n",
    "for i in set_type:\n",
    "    print(i)"
   ]
  },
  {
   "cell_type": "code",
   "execution_count": 26,
   "metadata": {},
   "outputs": [
    {
     "name": "stdout",
     "output_type": "stream",
     "text": [
      "write quite or exit to stop this program\n",
      "write quite or exit to stop this program\n",
      "write quite or exit to stop this program\n"
     ]
    },
    {
     "data": {
      "text/plain": [
       "[{'name': 'sbc', 'edu': 'ta'}, {'name': 'a', 'edu': 'h'}]"
      ]
     },
     "metadata": {},
     "output_type": "display_data"
    }
   ],
   "source": [
    "user_lis : list[dict[str,str]] = []\n",
    "flag = True \n",
    "stop_program = ['quite','exit','stop','close']\n",
    "while flag:\n",
    "    print('write quite or exit to stop this program')\n",
    "    name : str = input('Enter your good name: ')\n",
    "    edu : str = input('Enter your education: ')\n",
    "    \n",
    "    if name in stop_program or edu in stop_program:\n",
    "        flag = False\n",
    "        break\n",
    "    user_lis.append({'name': name,\"edu\":edu})\n",
    "    \n",
    "display(user_lis)    "
   ]
  },
  {
   "cell_type": "markdown",
   "metadata": {},
   "source": [
    "* says.argv (for console input)"
   ]
  },
  {
   "cell_type": "code",
   "execution_count": 27,
   "metadata": {},
   "outputs": [
    {
     "name": "stdout",
     "output_type": "stream",
     "text": [
      "0\n",
      "1\n",
      "2\n",
      "3\n",
      "4\n",
      "6\n",
      "7\n",
      "8\n",
      "9\n",
      "10\n",
      "11\n"
     ]
    }
   ],
   "source": [
    "for i in range(12):\n",
    "    if i == 5:\n",
    "        continue # skipping the iteration when i == 5\n",
    "    print(i)"
   ]
  },
  {
   "cell_type": "code",
   "execution_count": 28,
   "metadata": {},
   "outputs": [
    {
     "name": "stdout",
     "output_type": "stream",
     "text": [
      "RuntimeWarning\n"
     ]
    }
   ],
   "source": [
    "# we can use pass keywork to avoid errors from the if body and we can continue to write the code below, if we don't write the pass keyword and we don't have logic to write in the if body then we will face the error from the if body .\n",
    "if True:\n",
    "    pass\n",
    "\n",
    "print('RuntimeWarning')"
   ]
  },
  {
   "cell_type": "code",
   "execution_count": 1,
   "metadata": {},
   "outputs": [
    {
     "data": {
      "text/plain": [
       "[4, 6, 8, 4, 88]"
      ]
     },
     "execution_count": 1,
     "metadata": {},
     "output_type": "execute_result"
    }
   ],
   "source": [
    "num : list[int] = [1,3,4,6,8,4,643,77,88]\n",
    "\n",
    "#even number\n",
    "[i for i in num if i % 2==0]"
   ]
  },
  {
   "cell_type": "code",
   "execution_count": 2,
   "metadata": {},
   "outputs": [
    {
     "data": {
      "text/plain": [
       "[1, 3, 643, 77]"
      ]
     },
     "execution_count": 2,
     "metadata": {},
     "output_type": "execute_result"
    }
   ],
   "source": [
    "num : list[int] = [1,3,4,6,8,4,643,77,88]\n",
    "\n",
    "#odd number\n",
    "[i for i in num if i % 2!=0]"
   ]
  },
  {
   "cell_type": "code",
   "execution_count": 5,
   "metadata": {},
   "outputs": [
    {
     "name": "stdout",
     "output_type": "stream",
     "text": [
      "Arman has been confirmed\n",
      "Shayan has been confirmed\n",
      "Haris has been confirmed\n",
      "Waqas has been confirmed\n",
      "[]\n"
     ]
    }
   ],
   "source": [
    "unconfirmed_users : list[str] = ['waqas','haris','shayan','arman']\n",
    "confirmed_users : list[str] = []\n",
    "\n",
    "while unconfirmed_users :\n",
    "    user : str = unconfirmed_users.pop()\n",
    "    print(f'{user.title()} has been confirmed')\n",
    "    confirmed_users.append(user.title())\n",
    "print(unconfirmed_users)    "
   ]
  }
 ],
 "metadata": {
  "kernelspec": {
   "display_name": "Python 3",
   "language": "python",
   "name": "python3"
  },
  "language_info": {
   "codemirror_mode": {
    "name": "ipython",
    "version": 3
   },
   "file_extension": ".py",
   "mimetype": "text/x-python",
   "name": "python",
   "nbconvert_exporter": "python",
   "pygments_lexer": "ipython3",
   "version": "3.11.8"
  }
 },
 "nbformat": 4,
 "nbformat_minor": 2
}
