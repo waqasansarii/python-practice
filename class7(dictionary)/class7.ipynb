{
 "cells": [
  {
   "cell_type": "code",
   "execution_count": null,
   "metadata": {},
   "outputs": [],
   "source": []
  },
  {
   "cell_type": "code",
   "execution_count": 8,
   "metadata": {},
   "outputs": [
    {
     "name": "stdout",
     "output_type": "stream",
     "text": [
      "24\n",
      "Raees Ahmed\n",
      "['Reactjs', 'Nodejs']\n",
      "{'age': 24,\n",
      " 'city': 'Karachi',\n",
      " 'country': 'Pakistan',\n",
      " 'fname': 'Raees Ahmed',\n",
      " 'lname': 'Waqas',\n",
      " 'qualification': 'BSCS',\n",
      " 'skills': ['Reactjs', 'Nodejs']}\n",
      "{'age': 24,\n",
      " 'city': 'Karachi',\n",
      " 'country': 'Pakistan',\n",
      " 'fname': 'Raees Ahmed',\n",
      " 'lname': 'Waqas',\n",
      " 'number': 324424331,\n",
      " 'qualification': 'BSCS',\n",
      " 'skills': ['Reactjs', 'Nodejs']}\n"
     ]
    }
   ],
   "source": [
    "from typing import Dict, Union\n",
    "import pprint\n",
    "\n",
    "Key = Union[int,str]\n",
    "Value = Union[int , str,list]\n",
    "\n",
    "user_info : Dict[Key, Value] = {'fname':'Raees Ahmed',\n",
    "                                'lname':'Waqas',\n",
    "                                'age':24,\n",
    "                                'city':'Karachi',\n",
    "                                'country':'Pakistan',\n",
    "                                'qualification':'BSCS',\n",
    "                                'skills':['Reactjs','Nodejs']\n",
    "                                \n",
    "                                }\n",
    "\n",
    "print(user_info['age'])\n",
    "print(user_info['fname'])\n",
    "print(user_info['skills'])\n",
    "pprint.pprint(user_info)\n",
    "\n",
    "user_info['number'] = 324424331\n",
    "\n",
    "\n",
    "pprint.pprint(user_info)"
   ]
  },
  {
   "cell_type": "code",
   "execution_count": 7,
   "metadata": {},
   "outputs": [
    {
     "name": "stdout",
     "output_type": "stream",
     "text": [
      "{1, 2, 3, 4, 5, 7}\n",
      "[1, 2, 3, 4, 5, 7]\n"
     ]
    }
   ],
   "source": [
    "abc : set = {1,2,3,1,5,7,4,2,2,3,3,5,4,7,1,1,1}\n",
    "print(abc)\n",
    "print(list(abc))"
   ]
  },
  {
   "cell_type": "code",
   "execution_count": 11,
   "metadata": {},
   "outputs": [
    {
     "name": "stdout",
     "output_type": "stream",
     "text": [
      "dict_keys(['fname', 'lname', 'age', 'city', 'country', 'qualification', 'skills'])\n",
      "dict_values(['Raees Ahmed', 'Waqas', 24, 'Karachi', 'Pakistan', 'BSCS', ['Reactjs', 'Nodejs']])\n"
     ]
    },
    {
     "data": {
      "text/plain": [
       "[('fname', 'Raees Ahmed'),\n",
       " ('lname', 'Waqas'),\n",
       " ('age', 24),\n",
       " ('city', 'Karachi'),\n",
       " ('country', 'Pakistan'),\n",
       " ('qualification', 'BSCS'),\n",
       " ('skills', ['Reactjs', 'Nodejs'])]"
      ]
     },
     "execution_count": 11,
     "metadata": {},
     "output_type": "execute_result"
    }
   ],
   "source": [
    "from typing import Dict, Union\n",
    "import pprint\n",
    "\n",
    "Key = Union[int,str]\n",
    "Value = Union[int , str,list]\n",
    "\n",
    "user_info : Dict[Key, Value] = {'fname':'Raees Ahmed',\n",
    "                                'lname':'Waqas',\n",
    "                                'age':24,\n",
    "                                'city':'Karachi',\n",
    "                                'country':'Pakistan',\n",
    "                                'qualification':'BSCS',\n",
    "                                'skills':['Reactjs','Nodejs']\n",
    "                                \n",
    "                                }\n",
    "\n",
    "print(user_info.keys())\n",
    "print(user_info.values())\n",
    "list(zip(user_info.keys(),user_info.values()))"
   ]
  },
  {
   "cell_type": "code",
   "execution_count": 18,
   "metadata": {},
   "outputs": [
    {
     "name": "stdout",
     "output_type": "stream",
     "text": [
      "Raees Ahmed\n",
      "None\n",
      "not available\n",
      "Waqas\n"
     ]
    }
   ],
   "source": [
    "from typing import Dict, Union\n",
    "import pprint\n",
    "\n",
    "Key = Union[int,str]\n",
    "Value = Union[int , str,list]\n",
    "\n",
    "user_info : Dict[Key, Value] = {'fname':'Raees Ahmed',\n",
    "                                'lname':'Waqas',\n",
    "                                'age':24,\n",
    "                                'city':'Karachi',\n",
    "                                'country':'Pakistan',\n",
    "                                'qualification':'BSCS',\n",
    "                                'skills':['Reactjs','Nodejs']\n",
    "                                \n",
    "                                }\n",
    "\n",
    "print(user_info.get('fname'))\n",
    "print(user_info.get('edu'))\n",
    "# print(user_info['edu'])\n",
    "# we can use get methond to get the value by key, if key is not exists then we can show the error message \n",
    "print(user_info.get('edu','not available'))\n",
    "print(user_info.get('lname','not available'))"
   ]
  },
  {
   "cell_type": "code",
   "execution_count": 19,
   "metadata": {},
   "outputs": [
    {
     "name": "stdout",
     "output_type": "stream",
     "text": [
      "fname\n",
      "lname\n",
      "age\n",
      "city\n",
      "country\n",
      "qualification\n",
      "skills\n"
     ]
    }
   ],
   "source": [
    "from typing import Dict, Union\n",
    "import pprint\n",
    "\n",
    "Key = Union[int,str]\n",
    "Value = Union[int , str,list]\n",
    "\n",
    "user_info : Dict[Key, Value] = {'fname':'Raees Ahmed',\n",
    "                                'lname':'Waqas',\n",
    "                                'age':24,\n",
    "                                'city':'Karachi',\n",
    "                                'country':'Pakistan',\n",
    "                                'qualification':'BSCS',\n",
    "                                'skills':['Reactjs','Nodejs']\n",
    "                                \n",
    "                                }\n",
    "\n",
    "for k in user_info.keys():\n",
    "    print(k)"
   ]
  },
  {
   "cell_type": "code",
   "execution_count": 20,
   "metadata": {},
   "outputs": [
    {
     "name": "stdout",
     "output_type": "stream",
     "text": [
      "Raees Ahmed\n",
      "Waqas\n",
      "24\n",
      "Karachi\n",
      "Pakistan\n",
      "BSCS\n",
      "['Reactjs', 'Nodejs']\n"
     ]
    }
   ],
   "source": [
    "from typing import Dict, Union\n",
    "import pprint\n",
    "\n",
    "Key = Union[int,str]\n",
    "Value = Union[int , str,list]\n",
    "\n",
    "user_info : Dict[Key, Value] = {'fname':'Raees Ahmed',\n",
    "                                'lname':'Waqas',\n",
    "                                'age':24,\n",
    "                                'city':'Karachi',\n",
    "                                'country':'Pakistan',\n",
    "                                'qualification':'BSCS',\n",
    "                                'skills':['Reactjs','Nodejs']\n",
    "                                \n",
    "                                }\n",
    "\n",
    "for v in user_info.values():\n",
    "    print(v)"
   ]
  },
  {
   "cell_type": "code",
   "execution_count": 21,
   "metadata": {},
   "outputs": [
    {
     "name": "stdout",
     "output_type": "stream",
     "text": [
      "fname Raees Ahmed\n",
      "lname Waqas\n",
      "age 24\n",
      "city Karachi\n",
      "country Pakistan\n",
      "qualification BSCS\n",
      "skills ['Reactjs', 'Nodejs']\n"
     ]
    }
   ],
   "source": [
    "from typing import Dict, Union\n",
    "import pprint\n",
    "\n",
    "Key = Union[int,str]\n",
    "Value = Union[int , str,list]\n",
    "\n",
    "user_info : Dict[Key, Value] = {'fname':'Raees Ahmed',\n",
    "                                'lname':'Waqas',\n",
    "                                'age':24,\n",
    "                                'city':'Karachi',\n",
    "                                'country':'Pakistan',\n",
    "                                'qualification':'BSCS',\n",
    "                                'skills':['Reactjs','Nodejs']\n",
    "                                \n",
    "                                }\n",
    "\n",
    "for k in user_info.keys():\n",
    "    print(k , user_info[k])"
   ]
  },
  {
   "cell_type": "code",
   "execution_count": 24,
   "metadata": {},
   "outputs": [
    {
     "name": "stdout",
     "output_type": "stream",
     "text": [
      "dict_items([('fname', 'Raees Ahmed'), ('lname', 'Waqas'), ('age', 24), ('city', 'Karachi'), ('country', 'Pakistan'), ('qualification', 'BSCS'), ('skills', ['Reactjs', 'Nodejs'])])\n",
      "fname Raees Ahmed\n",
      "lname Waqas\n",
      "age 24\n",
      "city Karachi\n",
      "country Pakistan\n",
      "qualification BSCS\n",
      "skills ['Reactjs', 'Nodejs']\n"
     ]
    }
   ],
   "source": [
    "from typing import Dict, Union\n",
    "import pprint\n",
    "\n",
    "Key = Union[int,str]\n",
    "Value = Union[int , str,list]\n",
    "\n",
    "user_info : Dict[Key, Value] = {'fname':'Raees Ahmed',\n",
    "                                'lname':'Waqas',\n",
    "                                'age':24,\n",
    "                                'city':'Karachi',\n",
    "                                'country':'Pakistan',\n",
    "                                'qualification':'BSCS',\n",
    "                                'skills':['Reactjs','Nodejs']\n",
    "                                \n",
    "                                }\n",
    "pprint.pprint(user_info.items())\n",
    "\n",
    "for k,v in user_info.items():\n",
    "    print(k,v)"
   ]
  },
  {
   "cell_type": "code",
   "execution_count": 30,
   "metadata": {},
   "outputs": [
    {
     "data": {
      "text/plain": [
       "{'fname': 'Raees Ahmed',\n",
       " 'lname': 'Waqas',\n",
       " 'age': 24,\n",
       " 'city': 'Karachi',\n",
       " 'country': 'Pakistan',\n",
       " 'qualification': 'BSCS',\n",
       " 'skills': ['Reactjs', 'Nodejs']}"
      ]
     },
     "execution_count": 30,
     "metadata": {},
     "output_type": "execute_result"
    }
   ],
   "source": [
    "from typing import Dict, Union\n",
    "import pprint\n",
    "\n",
    "Key = Union[int,str]\n",
    "Value = Union[int , str,list]\n",
    "\n",
    "user_info : Dict[Key, Value] = {'fname':'Raees Ahmed',\n",
    "                                'lname':'Waqas',\n",
    "                                'age':24,\n",
    "                                'city':'Karachi',\n",
    "                                'country':'Pakistan',\n",
    "                                'qualification':'BSCS',\n",
    "                                'skills':['Reactjs','Nodejs']\n",
    "                                \n",
    "                                }\n",
    "\n",
    "{v:k  for v,k in user_info.items()}"
   ]
  },
  {
   "cell_type": "code",
   "execution_count": 35,
   "metadata": {},
   "outputs": [
    {
     "name": "stdout",
     "output_type": "stream",
     "text": [
      "{'id': None, 'name': None, 'email': None, 'number': None}\n",
      "{}\n",
      "{'id': None, 'name': None, 'email': None, 'number': None}\n"
     ]
    }
   ],
   "source": [
    "users_key:list[str] = ['id','name','email','number']\n",
    "\n",
    "user_data : Dict[Key , Value] = {}\n",
    "\n",
    "print(user_data.fromkeys(users_key))\n",
    "print(user_data)\n",
    "user_data = user_data.fromkeys(users_key)\n",
    "print(user_data)"
   ]
  },
  {
   "cell_type": "code",
   "execution_count": 36,
   "metadata": {},
   "outputs": [
    {
     "name": "stdout",
     "output_type": "stream",
     "text": [
      "{}\n"
     ]
    }
   ],
   "source": [
    "from typing import Dict, Union\n",
    "import pprint\n",
    "\n",
    "Key = Union[int,str]\n",
    "Value = Union[int , str,list]\n",
    "\n",
    "user_info : Dict[Key, Value] = {'fname':'Raees Ahmed',\n",
    "                                'lname':'Waqas',\n",
    "                                'age':24,\n",
    "                                'city':'Karachi',\n",
    "                                'country':'Pakistan',\n",
    "                                'qualification':'BSCS',\n",
    "                                'skills':['Reactjs','Nodejs']\n",
    "                                \n",
    "                                }\n",
    "\n",
    "user_info.clear()\n",
    "\n",
    "print(user_info)"
   ]
  },
  {
   "cell_type": "code",
   "execution_count": 37,
   "metadata": {},
   "outputs": [
    {
     "name": "stdout",
     "output_type": "stream",
     "text": [
      "{'fname': 'Raees Ahmed', 'lname': 'Waqas', 'city': 'Karachi', 'country': 'Pakistan', 'qualification': 'BSCS', 'skills': ['Reactjs', 'Nodejs']}\n",
      "24\n"
     ]
    }
   ],
   "source": [
    "from typing import Dict, Union\n",
    "import pprint\n",
    "\n",
    "Key = Union[int,str]\n",
    "Value = Union[int , str,list]\n",
    "\n",
    "user_info : Dict[Key, Value] = {'fname':'Raees Ahmed',\n",
    "                                'lname':'Waqas',\n",
    "                                'age':24,\n",
    "                                'city':'Karachi',\n",
    "                                'country':'Pakistan',\n",
    "                                'qualification':'BSCS',\n",
    "                                'skills':['Reactjs','Nodejs']\n",
    "                                \n",
    "                                }\n",
    "\n",
    "a = user_info.pop('age')\n",
    "\n",
    "print(user_info)\n",
    "print(a)"
   ]
  }
 ],
 "metadata": {
  "kernelspec": {
   "display_name": "Python 3",
   "language": "python",
   "name": "python3"
  },
  "language_info": {
   "codemirror_mode": {
    "name": "ipython",
    "version": 3
   },
   "file_extension": ".py",
   "mimetype": "text/x-python",
   "name": "python",
   "nbconvert_exporter": "python",
   "pygments_lexer": "ipython3",
   "version": "3.11.8"
  }
 },
 "nbformat": 4,
 "nbformat_minor": 2
}
