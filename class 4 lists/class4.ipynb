{
 "cells": [
  {
   "cell_type": "markdown",
   "metadata": {},
   "source": [
    "# List\n",
    "slicing"
   ]
  },
  {
   "cell_type": "code",
   "execution_count": 2,
   "metadata": {},
   "outputs": [
    {
     "name": "stdout",
     "output_type": "stream",
     "text": [
      "waqas waqas\n",
      "haris haris\n",
      "arman arman\n",
      "waqas haris arman\n"
     ]
    }
   ],
   "source": [
    "from typing import Any \n",
    "\n",
    "names : list[str] = ['waqas','haris','arman']\n",
    "print(names[-3],names[0])\n",
    "print(names[-2],names[1])\n",
    "print(names[-1],names[2])\n",
    "print(*names)"
   ]
  },
  {
   "cell_type": "code",
   "execution_count": 12,
   "metadata": {},
   "outputs": [
    {
     "name": "stdout",
     "output_type": "stream",
     "text": [
      "<class 'list'>\n",
      "<class 'int'>\n",
      "<class 'str'>\n",
      "<class 'bool'>\n",
      "4\n"
     ]
    }
   ],
   "source": [
    "names : list[str | bool | int] = ['waqas','haris','arman' , 5 , True]\n",
    "print(type(names))\n",
    "print(type(names[3]))\n",
    "print(type(names[2]))\n",
    "print(type(names[4]))\n",
    "print(len(names) - 1)\n"
   ]
  },
  {
   "cell_type": "code",
   "execution_count": 13,
   "metadata": {},
   "outputs": [
    {
     "name": "stdout",
     "output_type": "stream",
     "text": [
      "['A', 'B', 'C', 'D', 'E', 'F', 'G', 'H', 'I', 'J', 'K', 'L', 'M', 'N', 'O', 'P', 'Q', 'R', 'S', 'T', 'U', 'V', 'W', 'X', 'Y', 'Z']\n"
     ]
    }
   ],
   "source": [
    "characters : list[str] = list('ABCDEFGHIJKLMNOPQRSTUVWXYZ')\n",
    "print(characters)"
   ]
  },
  {
   "cell_type": "code",
   "execution_count": 23,
   "metadata": {},
   "outputs": [
    {
     "name": "stdout",
     "output_type": "stream",
     "text": [
      "['A', 'B', 'C', 'D', 'E', 'F', 'G', 'H', 'I', 'J', 'K']\n",
      "['A', 'D', 'G', 'J']\n",
      "['A', 'B', 'C', 'D', 'E', 'F', 'G', 'H', 'I', 'J', 'K']\n",
      "['A', 'B', 'C', 'D', 'E', 'F']\n"
     ]
    }
   ],
   "source": [
    "# slicing\n",
    "''' \n",
    "* variable : anyname[start:end:step]\n",
    "* start : int =include\n",
    "* end : int =n - 1 \n",
    "* step : int = sequence  \n",
    "'''\n",
    "\n",
    "chrs : list[str] = ['A', 'B', 'C', 'D', 'E', 'F', 'G', 'H', 'I', 'J', 'K', 'L', 'M', 'N', 'O', 'P', 'Q', 'R', 'S', 'T', 'U', 'V', 'W', 'X', 'Y', 'Z']\n",
    "print(chrs[0:11:1])\n",
    "print(chrs[0:11:3])\n",
    "print(chrs[:11])\n",
    "print(chrs[-26:-20])\n",
    "\n"
   ]
  },
  {
   "cell_type": "code",
   "execution_count": 1,
   "metadata": {},
   "outputs": [
    {
     "name": "stdout",
     "output_type": "stream",
     "text": [
      "['Z', 'Y', 'X', 'W', 'V', 'U', 'T', 'S', 'R', 'Q', 'P', 'O', 'N', 'M', 'L', 'K', 'J', 'I', 'H', 'G', 'F', 'E', 'D', 'C', 'B', 'A']\n"
     ]
    }
   ],
   "source": [
    "chrs : list[str] = ['A', 'B', 'C', 'D', 'E', 'F', 'G', 'H', 'I', 'J', 'K', 'L', 'M', 'N', 'O', 'P', 'Q', 'R', 'S', 'T', 'U', 'V', 'W', 'X', 'Y', 'Z']\n",
    "print(chrs[::-1])"
   ]
  },
  {
   "cell_type": "code",
   "execution_count": 13,
   "metadata": {},
   "outputs": [
    {
     "name": "stdout",
     "output_type": "stream",
     "text": [
      "['B', 'C', 'D', 'E', 'F']\n",
      "[]\n",
      "['H', 'G', 'F']\n"
     ]
    }
   ],
   "source": [
    "                  #  0    1    2    3    4    5    6    7    8 \n",
    "chrs : list[str] = ['A', 'B', 'C', 'D', 'E', 'F', 'G', 'H', 'I']\n",
    "#                   -9    -8  -7   -6   -5   -4   -3   -2   -1   \n",
    "print(chrs[1:-3])\n",
    "print(chrs[-2:-5])\n",
    "print(chrs[-2:-5:-1])\n"
   ]
  },
  {
   "cell_type": "code",
   "execution_count": 14,
   "metadata": {},
   "outputs": [
    {
     "name": "stdout",
     "output_type": "stream",
     "text": [
      "['waqas', 'haris', 'arman', 'ali', 'abc']\n",
      "['waqas', 'haris', 'arman', 'abc']\n"
     ]
    }
   ],
   "source": [
    "name : list[str] = [\"waqas\",'haris','arman' ,'ali','abc']\n",
    "\n",
    "print(name)\n",
    "\n",
    "del name[3]\n",
    "\n",
    "print(name)"
   ]
  },
  {
   "cell_type": "markdown",
   "metadata": {},
   "source": [
    "# Help\n",
    "* help(object)\n",
    "* object?\n",
    "* object??\n",
    "* ?object\n",
    "* ??object\n"
   ]
  },
  {
   "cell_type": "code",
   "execution_count": 15,
   "metadata": {},
   "outputs": [
    {
     "name": "stdout",
     "output_type": "stream",
     "text": [
      "Help on built-in function print in module builtins:\n",
      "\n",
      "print(*args, sep=' ', end='\\n', file=None, flush=False)\n",
      "    Prints the values to a stream, or to sys.stdout by default.\n",
      "    \n",
      "    sep\n",
      "      string inserted between values, default a space.\n",
      "    end\n",
      "      string appended after the last value, default a newline.\n",
      "    file\n",
      "      a file-like object (stream); defaults to the current sys.stdout.\n",
      "    flush\n",
      "      whether to forcibly flush the stream.\n",
      "\n"
     ]
    }
   ],
   "source": [
    "help(print)"
   ]
  },
  {
   "cell_type": "code",
   "execution_count": 16,
   "metadata": {},
   "outputs": [
    {
     "name": "stdout",
     "output_type": "stream",
     "text": [
      "Help on list object:\n",
      "\n",
      "class list(object)\n",
      " |  list(iterable=(), /)\n",
      " |  \n",
      " |  Built-in mutable sequence.\n",
      " |  \n",
      " |  If no argument is given, the constructor creates a new empty list.\n",
      " |  The argument must be an iterable if specified.\n",
      " |  \n",
      " |  Methods defined here:\n",
      " |  \n",
      " |  __add__(self, value, /)\n",
      " |      Return self+value.\n",
      " |  \n",
      " |  __contains__(self, key, /)\n",
      " |      Return key in self.\n",
      " |  \n",
      " |  __delitem__(self, key, /)\n",
      " |      Delete self[key].\n",
      " |  \n",
      " |  __eq__(self, value, /)\n",
      " |      Return self==value.\n",
      " |  \n",
      " |  __ge__(self, value, /)\n",
      " |      Return self>=value.\n",
      " |  \n",
      " |  __getattribute__(self, name, /)\n",
      " |      Return getattr(self, name).\n",
      " |  \n",
      " |  __getitem__(...)\n",
      " |      x.__getitem__(y) <==> x[y]\n",
      " |  \n",
      " |  __gt__(self, value, /)\n",
      " |      Return self>value.\n",
      " |  \n",
      " |  __iadd__(self, value, /)\n",
      " |      Implement self+=value.\n",
      " |  \n",
      " |  __imul__(self, value, /)\n",
      " |      Implement self*=value.\n",
      " |  \n",
      " |  __init__(self, /, *args, **kwargs)\n",
      " |      Initialize self.  See help(type(self)) for accurate signature.\n",
      " |  \n",
      " |  __iter__(self, /)\n",
      " |      Implement iter(self).\n",
      " |  \n",
      " |  __le__(self, value, /)\n",
      " |      Return self<=value.\n",
      " |  \n",
      " |  __len__(self, /)\n",
      " |      Return len(self).\n",
      " |  \n",
      " |  __lt__(self, value, /)\n",
      " |      Return self<value.\n",
      " |  \n",
      " |  __mul__(self, value, /)\n",
      " |      Return self*value.\n",
      " |  \n",
      " |  __ne__(self, value, /)\n",
      " |      Return self!=value.\n",
      " |  \n",
      " |  __repr__(self, /)\n",
      " |      Return repr(self).\n",
      " |  \n",
      " |  __reversed__(self, /)\n",
      " |      Return a reverse iterator over the list.\n",
      " |  \n",
      " |  __rmul__(self, value, /)\n",
      " |      Return value*self.\n",
      " |  \n",
      " |  __setitem__(self, key, value, /)\n",
      " |      Set self[key] to value.\n",
      " |  \n",
      " |  __sizeof__(self, /)\n",
      " |      Return the size of the list in memory, in bytes.\n",
      " |  \n",
      " |  append(self, object, /)\n",
      " |      Append object to the end of the list.\n",
      " |  \n",
      " |  clear(self, /)\n",
      " |      Remove all items from list.\n",
      " |  \n",
      " |  copy(self, /)\n",
      " |      Return a shallow copy of the list.\n",
      " |  \n",
      " |  count(self, value, /)\n",
      " |      Return number of occurrences of value.\n",
      " |  \n",
      " |  extend(self, iterable, /)\n",
      " |      Extend list by appending elements from the iterable.\n",
      " |  \n",
      " |  index(self, value, start=0, stop=9223372036854775807, /)\n",
      " |      Return first index of value.\n",
      " |      \n",
      " |      Raises ValueError if the value is not present.\n",
      " |  \n",
      " |  insert(self, index, object, /)\n",
      " |      Insert object before index.\n",
      " |  \n",
      " |  pop(self, index=-1, /)\n",
      " |      Remove and return item at index (default last).\n",
      " |      \n",
      " |      Raises IndexError if list is empty or index is out of range.\n",
      " |  \n",
      " |  remove(self, value, /)\n",
      " |      Remove first occurrence of value.\n",
      " |      \n",
      " |      Raises ValueError if the value is not present.\n",
      " |  \n",
      " |  reverse(self, /)\n",
      " |      Reverse *IN PLACE*.\n",
      " |  \n",
      " |  sort(self, /, *, key=None, reverse=False)\n",
      " |      Sort the list in ascending order and return None.\n",
      " |      \n",
      " |      The sort is in-place (i.e. the list itself is modified) and stable (i.e. the\n",
      " |      order of two equal elements is maintained).\n",
      " |      \n",
      " |      If a key function is given, apply it once to each list item and sort them,\n",
      " |      ascending or descending, according to their function values.\n",
      " |      \n",
      " |      The reverse flag can be set to sort in descending order.\n",
      " |  \n",
      " |  ----------------------------------------------------------------------\n",
      " |  Class methods defined here:\n",
      " |  \n",
      " |  __class_getitem__(...) from builtins.type\n",
      " |      See PEP 585\n",
      " |  \n",
      " |  ----------------------------------------------------------------------\n",
      " |  Static methods defined here:\n",
      " |  \n",
      " |  __new__(*args, **kwargs) from builtins.type\n",
      " |      Create and return a new object.  See help(type) for accurate signature.\n",
      " |  \n",
      " |  ----------------------------------------------------------------------\n",
      " |  Data and other attributes defined here:\n",
      " |  \n",
      " |  __hash__ = None\n",
      "\n"
     ]
    }
   ],
   "source": [
    "help(name)"
   ]
  },
  {
   "cell_type": "markdown",
   "metadata": {},
   "source": [
    "# List methods\n",
    "* append(): Adds an element to the end of the list.\n",
    "* clear(): Removes all elements from the list.\n",
    "* copy(): Returns a copy of the list.\n",
    "* count(): Returns the number of elements with the specified value.\n",
    "* extend(): Adds elements from another list (or any iterable) to the current list.\n",
    "* index(): Returns the index of the first element with the specified value.\n",
    "* insert(): Adds an element at a specified position.\n",
    "* pop(): Removes the element at a specified position.\n",
    "* remove(): Removes the first item with the specified value.\n",
    "* reverse(): Reverses the order of the list.\n",
    "* sort(): Sorts the list."
   ]
  },
  {
   "cell_type": "code",
   "execution_count": 2,
   "metadata": {},
   "outputs": [
    {
     "name": "stdout",
     "output_type": "stream",
     "text": [
      "2\n",
      "ali\n",
      "delete ['waqas', 'haris', 'arman', 'abc']\n",
      "insert ['waqas', 'haris', 'arman', 'arman', 'abc']\n",
      "reverse ['abc', 'arman', 'arman', 'haris', 'waqas']\n",
      "remove ['arman', 'arman', 'haris', 'waqas']\n",
      "copy ['arman', 'arman', 'haris', 'waqas'] ['arman', 'arman', 'haris', 'waqas']\n",
      "append ['arman', 'arman', 'haris', 'waqas', 'abcd']\n"
     ]
    }
   ],
   "source": [
    "name : list[str] = [\"waqas\",'haris','arman' ,'ali','abc']\n",
    "\n",
    "# name.index('waqas')\n",
    "print(name.index('arman'))\n",
    "\n",
    "rem = name.pop(3)\n",
    "\n",
    "print(rem)\n",
    "print('delete',name)\n",
    "\n",
    "name.insert(len(name) -1 , 'arman')\n",
    "\n",
    "print('insert',name)\n",
    "\n",
    "name.reverse()\n",
    "\n",
    "print('reverse' , name)\n",
    "\n",
    "name.remove('abc')\n",
    "\n",
    "print('remove' , name)\n",
    "\n",
    "name.count('arman')\n",
    "\n",
    "name2 =  name.copy()\n",
    "\n",
    "print('copy', name2, name)\n",
    "\n",
    "name.append('abcd')\n",
    "\n",
    "print('append' , name)\n",
    "\n",
    "# name.clear()\n",
    "\n",
    "# print('cleared' , name)\n"
   ]
  },
  {
   "cell_type": "code",
   "execution_count": 3,
   "metadata": {},
   "outputs": [
    {
     "name": "stdout",
     "output_type": "stream",
     "text": [
      "['waqas', 'haris', 'arman', 'ali', 'abc', 'shayan', 'rohan']\n",
      "['waqas', 'shayan', 'rohan', 'haris', 'arman', 'ali', 'abc']\n"
     ]
    }
   ],
   "source": [
    "name : list[str] = [\"waqas\",'haris','arman' ,'ali','abc']\n",
    "team : list[str] = ['shayan','rohan']\n",
    "\n",
    "# name.append(team)\n",
    "name.extend(team)\n",
    "print(name)\n",
    "\n",
    "sorteds = name.sort(reverse= True)\n",
    "print(name)"
   ]
  },
  {
   "cell_type": "code",
   "execution_count": 58,
   "metadata": {},
   "outputs": [
    {
     "name": "stdout",
     "output_type": "stream",
     "text": [
      "['Pak', 'Eng', 'Ind']\n",
      "3\n",
      "Ind\n"
     ]
    }
   ],
   "source": [
    "teams : list[str] = list(['Pak','Eng','Ind'])\n",
    "print(teams)\n",
    "print(len(teams))\n",
    "print(teams[-1])"
   ]
  },
  {
   "cell_type": "code",
   "execution_count": 59,
   "metadata": {},
   "outputs": [
    {
     "name": "stdout",
     "output_type": "stream",
     "text": [
      "['waqas', 'ali', 'abc']\n"
     ]
    }
   ],
   "source": [
    "# we can delete multiple items \n",
    "name : list[str] = [\"waqas\",'haris','arman' ,'ali','abc']\n",
    "\n",
    "del name[1:3]\n",
    "\n",
    "print(name)"
   ]
  },
  {
   "cell_type": "code",
   "execution_count": 14,
   "metadata": {},
   "outputs": [
    {
     "name": "stdout",
     "output_type": "stream",
     "text": [
      "['sofa', 'table', 'fan']\n"
     ]
    }
   ],
   "source": [
    "list_names = ['chair','sofa','table','fan']\n",
    "ind = list_names.index('chair')\n",
    "\n",
    "\n",
    "del list_names[ind]\n",
    "\n",
    "print(list_names)"
   ]
  },
  {
   "cell_type": "code",
   "execution_count": 1,
   "metadata": {},
   "outputs": [
    {
     "data": {
      "text/plain": [
       "{'chair', 'fan', 'sofa', 'table'}"
      ]
     },
     "execution_count": 1,
     "metadata": {},
     "output_type": "execute_result"
    }
   ],
   "source": [
    "list_names = ['chair','sofa','table','fan']\n",
    "list_names.remove('chair')\n",
    "print('1'.join(list_names))\n",
    "print(list_names)"
   ]
  },
  {
   "cell_type": "code",
   "execution_count": null,
   "metadata": {},
   "outputs": [],
   "source": []
  }
 ],
 "metadata": {
  "kernelspec": {
   "display_name": "Python 3",
   "language": "python",
   "name": "python3"
  },
  "language_info": {
   "codemirror_mode": {
    "name": "ipython",
    "version": 3
   },
   "file_extension": ".py",
   "mimetype": "text/x-python",
   "name": "python",
   "nbconvert_exporter": "python",
   "pygments_lexer": "ipython3",
   "version": "3.11.8"
  }
 },
 "nbformat": 4,
 "nbformat_minor": 2
}
