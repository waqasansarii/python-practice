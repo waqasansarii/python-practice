{
 "cells": [
  {
   "cell_type": "code",
   "execution_count": 1,
   "metadata": {},
   "outputs": [
    {
     "name": "stdout",
     "output_type": "stream",
     "text": [
      "Waqas\n",
      "haris\n",
      "arman\n"
     ]
    }
   ],
   "source": [
    "names : list[str] = ['Waqas' , 'haris', 'arman']\n",
    "\n",
    "team : str = 'waqas'\n",
    "\n",
    "print(team)\n",
    "\n",
    "for name in names :\n",
    "    print(name)"
   ]
  },
  {
   "cell_type": "code",
   "execution_count": 3,
   "metadata": {},
   "outputs": [
    {
     "name": "stdout",
     "output_type": "stream",
     "text": [
      "Waqas\n",
      "arman\n"
     ]
    }
   ],
   "source": [
    "names : list[str] = ['Waqas' , 'haris', 'arman']\n",
    "\n",
    "i : int = 0\n",
    "\n",
    "while i < len(names):\n",
    "    print(names[i])\n",
    "    i += 1"
   ]
  },
  {
   "cell_type": "code",
   "execution_count": 7,
   "metadata": {},
   "outputs": [
    {
     "name": "stdout",
     "output_type": "stream",
     "text": [
      "shayan\n"
     ]
    }
   ],
   "source": [
    "names : list[str] = ['Waqas' , 'haris', 'arman','ali','rohan','shayan']\n",
    "plc = len(names) -1\n",
    "print(names[-1])\n",
    "# print(len(names))\n",
    "\n",
    "# for name in names[1::2] :\n",
    "#     print(f'Sky11 team memmber {name.title()}')"
   ]
  },
  {
   "cell_type": "code",
   "execution_count": 18,
   "metadata": {},
   "outputs": [
    {
     "name": "stdout",
     "output_type": "stream",
     "text": [
      "[('waqas', 'waqas123'), ('haris', 'haris123'), ('arman', 'arman123')]\n",
      "('waqas', 'waqas123')\n",
      "waqas\n",
      "waqas123\n",
      "('haris', 'haris123')\n",
      "haris\n",
      "haris123\n",
      "('arman', 'arman123')\n",
      "arman\n",
      "arman123\n"
     ]
    }
   ],
   "source": [
    "# from typing import Tuple\n",
    "user_data : list[tuple[str,str]] = [('waqas','waqas123'),\n",
    "                                    ('haris','haris123'),\n",
    "                                    ('arman','arman123'),\n",
    "                                    ]\n",
    "\n",
    "print(user_data)\n",
    "\n",
    "for user in user_data:\n",
    "    print(user)\n",
    "    print(user[0])\n",
    "    print(user[1])"
   ]
  },
  {
   "cell_type": "code",
   "execution_count": 20,
   "metadata": {},
   "outputs": [
    {
     "name": "stdout",
     "output_type": "stream",
     "text": [
      "waqas waqas123\n",
      "haris haris123\n",
      "arman arman123\n"
     ]
    }
   ],
   "source": [
    "user_data : list[tuple[str,str]] = [('waqas','waqas123'),\n",
    "                                    ('haris','haris123'),\n",
    "                                    ('arman','arman123'),\n",
    "                                    ]\n",
    "\n",
    "for user in user_data:\n",
    "    name , password = user\n",
    "    print(name,password)"
   ]
  },
  {
   "cell_type": "code",
   "execution_count": 31,
   "metadata": {},
   "outputs": [
    {
     "name": "stdout",
     "output_type": "stream",
     "text": [
      "Wrong email or password\n"
     ]
    }
   ],
   "source": [
    "user_data : list[tuple[str,str]] = [('waqas','waqas123'),\n",
    "                                    ('haris','haris123'),\n",
    "                                    ('arman','arman123'),\n",
    "                                    ]\n",
    "user_name  : str = input('Enter your name')\n",
    "user_password : str = input('Enter your password')\n",
    "\n",
    "# we can use else statement at the end of for loop (only in python ) \n",
    "for user in user_data:\n",
    "    name , password = user\n",
    "    if name == user_name and password == user_password:\n",
    "       print(name,password,'logged in')\n",
    "       break\n",
    "else : \n",
    "    print('Wrong email or password')"
   ]
  },
  {
   "cell_type": "code",
   "execution_count": 32,
   "metadata": {},
   "outputs": [
    {
     "name": "stdout",
     "output_type": "stream",
     "text": [
      "Sky11 team memmber Haris\n",
      "Sky11 team memmber Ali\n",
      "Sky11 team memmber Shayan\n",
      "hello pakistan\n"
     ]
    }
   ],
   "source": [
    "# else will esecute when last word will be print from the list otherwise else will not execute.\n",
    "names : list[str] = ['Waqas' , 'haris', 'arman','ali','rohan','shayan']\n",
    "\n",
    "for name in names[1::2] :\n",
    "    print(f'Sky11 team memmber {name.title()}')\n",
    "else:\n",
    "    print('hello pakistan')    "
   ]
  },
  {
   "cell_type": "code",
   "execution_count": 33,
   "metadata": {},
   "outputs": [
    {
     "name": "stdout",
     "output_type": "stream",
     "text": [
      "Sky11 team memmber Waqas\n"
     ]
    }
   ],
   "source": [
    "names : list[str] = ['Waqas' , 'haris', 'arman','ali','rohan','shayan']\n",
    "\n",
    "for name in names :\n",
    "    print(f'Sky11 team memmber {name.title()}')\n",
    "    break\n",
    "else:\n",
    "    print('hello pakistan')  "
   ]
  },
  {
   "cell_type": "code",
   "execution_count": 34,
   "metadata": {},
   "outputs": [
    {
     "data": {
      "text/plain": [
       "[(0, 'Waqas'),\n",
       " (1, 'haris'),\n",
       " (2, 'arman'),\n",
       " (3, 'ali'),\n",
       " (4, 'rohan'),\n",
       " (5, 'shayan')]"
      ]
     },
     "execution_count": 34,
     "metadata": {},
     "output_type": "execute_result"
    }
   ],
   "source": [
    "names : list[str] = ['Waqas' , 'haris', 'arman','ali','rohan','shayan']\n",
    "\n",
    "list (enumerate(names))"
   ]
  },
  {
   "cell_type": "code",
   "execution_count": 36,
   "metadata": {},
   "outputs": [
    {
     "name": "stdout",
     "output_type": "stream",
     "text": [
      "0 Waqas\n",
      "1 haris\n",
      "2 arman\n",
      "3 ali\n",
      "4 rohan\n",
      "5 shayan\n"
     ]
    }
   ],
   "source": [
    "names : list[str] = ['Waqas' , 'haris', 'arman','ali','rohan','shayan']\n",
    "\n",
    "for index , name in enumerate(names):\n",
    "    print(index , name)"
   ]
  },
  {
   "cell_type": "markdown",
   "metadata": {},
   "source": [
    "# Number list\n",
    "* range is generator function that returns a list of numbers that will be used to generate the number list for each team   member in the team member list.\n",
    "* range(start , end, step)"
   ]
  },
  {
   "cell_type": "code",
   "execution_count": 46,
   "metadata": {},
   "outputs": [
    {
     "name": "stdout",
     "output_type": "stream",
     "text": [
      "[2, 4, 6, 8, 10, 12, 14, 16, 18, 20]\n"
     ]
    }
   ],
   "source": [
    "list(range(10))\n",
    "num = list(range(2, 21 , 2))\n",
    "print(num)"
   ]
  },
  {
   "cell_type": "code",
   "execution_count": 44,
   "metadata": {},
   "outputs": [
    {
     "name": "stdout",
     "output_type": "stream",
     "text": [
      "2\n",
      "4\n",
      "6\n",
      "8\n",
      "10\n",
      "12\n",
      "14\n",
      "16\n",
      "18\n",
      "20\n"
     ]
    }
   ],
   "source": [
    "for   val in range(2 , 21 , 2):\n",
    "    print(val)"
   ]
  },
  {
   "cell_type": "code",
   "execution_count": 45,
   "metadata": {},
   "outputs": [
    {
     "name": "stdout",
     "output_type": "stream",
     "text": [
      "2 X 1 = 2\n",
      "2 X 2 = 4\n",
      "2 X 3 = 6\n",
      "2 X 4 = 8\n",
      "2 X 5 = 10\n",
      "2 X 6 = 12\n",
      "2 X 7 = 14\n",
      "2 X 8 = 16\n",
      "2 X 9 = 18\n",
      "2 X 10 = 20\n"
     ]
    }
   ],
   "source": [
    "for   val in range(1 , 11):\n",
    "    print(f'2 X {val} = {val * 2}')"
   ]
  },
  {
   "cell_type": "code",
   "execution_count": 43,
   "metadata": {},
   "outputs": [
    {
     "name": "stdout",
     "output_type": "stream",
     "text": [
      "2 x 1 = 2\n",
      "2 x 2 = 4\n",
      "2 x 3 = 6\n",
      "2 x 4 = 8\n",
      "2 x 5 = 10\n",
      "2 x 6 = 12\n",
      "2 x 7 = 14\n",
      "2 x 8 = 16\n",
      "2 x 9 = 18\n",
      "2 x 10 = 20\n"
     ]
    }
   ],
   "source": [
    "for index , val in enumerate(range(2 , 21 , 2)):\n",
    "    print(f'2 x {index + 1} = {val}')"
   ]
  },
  {
   "cell_type": "code",
   "execution_count": 47,
   "metadata": {},
   "outputs": [
    {
     "name": "stdout",
     "output_type": "stream",
     "text": [
      "[1, 4, 9, 16, 25, 36, 49, 64, 81, 100]\n"
     ]
    }
   ],
   "source": [
    "squares = []\n",
    "for sqr in range (1 , 11):\n",
    "    square = sqr ** 2\n",
    "    squares.append(square)\n",
    "\n",
    "print(squares)    "
   ]
  },
  {
   "cell_type": "code",
   "execution_count": 53,
   "metadata": {},
   "outputs": [
    {
     "data": {
      "text/plain": [
       "385"
      ]
     },
     "execution_count": 53,
     "metadata": {},
     "output_type": "execute_result"
    }
   ],
   "source": [
    "# min(squares)\n",
    "max(squares)\n"
   ]
  },
  {
   "cell_type": "code",
   "execution_count": 54,
   "metadata": {},
   "outputs": [
    {
     "data": {
      "text/plain": [
       "385"
      ]
     },
     "execution_count": 54,
     "metadata": {},
     "output_type": "execute_result"
    }
   ],
   "source": [
    "sum(squares)\n"
   ]
  },
  {
   "cell_type": "markdown",
   "metadata": {},
   "source": [
    "# list comprehension"
   ]
  },
  {
   "cell_type": "code",
   "execution_count": 55,
   "metadata": {},
   "outputs": [
    {
     "name": "stdout",
     "output_type": "stream",
     "text": [
      "[1, 4, 9, 16, 25, 36, 49, 64, 81, 100]\n"
     ]
    }
   ],
   "source": [
    "squares = [value**2 for value in range(1,11)]\n",
    "print(squares)"
   ]
  },
  {
   "cell_type": "code",
   "execution_count": 56,
   "metadata": {},
   "outputs": [
    {
     "name": "stdout",
     "output_type": "stream",
     "text": [
      "[2, 4, 6, 8, 10, 12, 14, 16, 18, 20]\n"
     ]
    }
   ],
   "source": [
    "table = [ val * 2 for val in range(1,11) ]\n",
    "print(table)"
   ]
  },
  {
   "cell_type": "code",
   "execution_count": 69,
   "metadata": {},
   "outputs": [
    {
     "data": {
      "text/plain": [
       "False"
      ]
     },
     "execution_count": 69,
     "metadata": {},
     "output_type": "execute_result"
    }
   ],
   "source": [
    "bool(0)"
   ]
  },
  {
   "cell_type": "code",
   "execution_count": 68,
   "metadata": {},
   "outputs": [
    {
     "data": {
      "text/plain": [
       "True"
      ]
     },
     "execution_count": 68,
     "metadata": {},
     "output_type": "execute_result"
    }
   ],
   "source": [
    "bool(1)\n",
    "bool(4)"
   ]
  }
 ],
 "metadata": {
  "kernelspec": {
   "display_name": "Python 3",
   "language": "python",
   "name": "python3"
  },
  "language_info": {
   "codemirror_mode": {
    "name": "ipython",
    "version": 3
   },
   "file_extension": ".py",
   "mimetype": "text/x-python",
   "name": "python",
   "nbconvert_exporter": "python",
   "pygments_lexer": "ipython3",
   "version": "3.11.8"
  }
 },
 "nbformat": 4,
 "nbformat_minor": 2
}
