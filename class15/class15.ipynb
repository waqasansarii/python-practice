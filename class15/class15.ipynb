{
 "cells": [
  {
   "cell_type": "code",
   "execution_count": 56,
   "metadata": {},
   "outputs": [
    {
     "name": "stdout",
     "output_type": "stream",
     "text": [
      "function square took 0.00024860003031790257 seconds\n",
      "[0, 1, 4, 9, 16, 25, 36, 49, 64, 81]\n"
     ]
    }
   ],
   "source": [
    "from timemod.time import Timer\n",
    "\n",
    "@Timer\n",
    "def square(nums):\n",
    "    return [num ** 2 for num in nums]\n",
    "\n",
    "print(square(list(range(10))))"
   ]
  },
  {
   "cell_type": "markdown",
   "metadata": {},
   "source": [
    "# Encapsulation"
   ]
  },
  {
   "cell_type": "code",
   "execution_count": 63,
   "metadata": {},
   "outputs": [
    {
     "name": "stdout",
     "output_type": "stream",
     "text": [
      "user name\n",
      "43432\n"
     ]
    }
   ],
   "source": [
    "class Users:\n",
    "    def __init__(self) -> None:\n",
    "        # self.name         public value\n",
    "        self.name = 'user name'\n",
    "        # self.password  private value\n",
    "        self.__password = '43432'\n",
    "        # self.number   protected value\n",
    "        self._number = '03101165278' \n",
    "        \n",
    "user : Users = Users()\n",
    "\n",
    "print(user.name)\n",
    "# print(user.__password) \n",
    "\n",
    "# the way to access the private or protected value \n",
    "print(user._Users__password)       "
   ]
  },
  {
   "cell_type": "code",
   "execution_count": null,
   "metadata": {},
   "outputs": [],
   "source": []
  },
  {
   "cell_type": "code",
   "execution_count": 67,
   "metadata": {},
   "outputs": [
    {
     "name": "stdout",
     "output_type": "stream",
     "text": [
      "Hello dear admin\n",
      "valid user\n"
     ]
    }
   ],
   "source": [
    "class StudentLogin:\n",
    "    def __init__(self) -> None:\n",
    "        self.__username: str = 'admin'\n",
    "        self.__password:str = 'admin'\n",
    "        \n",
    "    def __dbconnectivity(self,user:str , password:str):\n",
    "        if   user==self.__username and password ==self.__password:\n",
    "            return 'valid user'\n",
    "        else:\n",
    "            return 'invalid user'\n",
    "    \n",
    "    def update_password(self,password):\n",
    "        self.__password = password\n",
    "            \n",
    "    def student_login(self, user:str,password:str):\n",
    "       message = self.__dbconnectivity(user,password)\n",
    "       print(message)\n",
    "        \n",
    "    def display_information(self):\n",
    "        print(f'Hello dear {self.__username}')  \n",
    "        \n",
    "waqas : StudentLogin = StudentLogin()\n",
    "\n",
    "waqas.display_information()          \n",
    "              \n",
    "waqas.student_login('admin','admin')           "
   ]
  },
  {
   "cell_type": "markdown",
   "metadata": {},
   "source": [
    "```\n",
    " __str__\n",
    "```"
   ]
  },
  {
   "cell_type": "code",
   "execution_count": 70,
   "metadata": {},
   "outputs": [
    {
     "name": "stdout",
     "output_type": "stream",
     "text": [
      "Teacher name is waqas\n"
     ]
    }
   ],
   "source": [
    "class Teacher:\n",
    "    def __init__(self,name:str) -> None:\n",
    "        self.name : str = name\n",
    "        \n",
    "    def __str__(self) -> str:\n",
    "        return f'Teacher name is {self.name}'\n",
    "    \n",
    "waqas : Teacher = Teacher('waqas')\n",
    "print(waqas)        "
   ]
  },
  {
   "cell_type": "markdown",
   "metadata": {},
   "source": [
    "# Abstract Class"
   ]
  },
  {
   "cell_type": "code",
   "execution_count": 71,
   "metadata": {},
   "outputs": [
    {
     "name": "stdout",
     "output_type": "stream",
     "text": [
      "cat is eating fish\n"
     ]
    }
   ],
   "source": [
    "from abc import ABC, abstractmethod\n",
    "\n",
    "class Animal(ABC):\n",
    "    @abstractmethod\n",
    "    def __init__(self) -> None:\n",
    "        super().__init__()\n",
    "    \n",
    "    @abstractmethod    \n",
    "    def eat(self,food)->None:\n",
    "        ...   \n",
    "        \n",
    "class Cat(Animal):\n",
    "    def __init__(self) -> None:\n",
    "        super().__init__()\n",
    "    \n",
    "    def eat(self, food) -> str:\n",
    "        return f'cat is eating {food}'  \n",
    "    \n",
    "cat : Cat = Cat()\n",
    "print(cat.eat('fish'))               "
   ]
  },
  {
   "cell_type": "markdown",
   "metadata": {},
   "source": [
    "## Duck typing"
   ]
  },
  {
   "cell_type": "code",
   "execution_count": 74,
   "metadata": {},
   "outputs": [
    {
     "name": "stdout",
     "output_type": "stream",
     "text": [
      "quack\n",
      "quack\n"
     ]
    }
   ],
   "source": [
    "class Duck:\n",
    "    def quack(self):\n",
    "       return 'quack'\n",
    "\n",
    "class Person:\n",
    "    def quack(self):\n",
    "       return 'quack'\n",
    "        \n",
    "def forest(malard):\n",
    "    print(malard.quack())     \n",
    "    \n",
    "duck : Duck = Duck()\n",
    "person: Person = Person()\n",
    "\n",
    "forest(duck)\n",
    "forest(person)               "
   ]
  }
 ],
 "metadata": {
  "kernelspec": {
   "display_name": "Python 3",
   "language": "python",
   "name": "python3"
  },
  "language_info": {
   "codemirror_mode": {
    "name": "ipython",
    "version": 3
   },
   "file_extension": ".py",
   "mimetype": "text/x-python",
   "name": "python",
   "nbconvert_exporter": "python",
   "pygments_lexer": "ipython3",
   "version": "3.11.8"
  }
 },
 "nbformat": 4,
 "nbformat_minor": 2
}
